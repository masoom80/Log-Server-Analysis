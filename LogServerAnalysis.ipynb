{
 "cells": [
  {
   "cell_type": "markdown",
   "id": "final-national",
   "metadata": {
    "id": "final-national"
   },
   "source": [
    "# Log Server Analysis\n",
    "\n",
    "This is the assignment **#1** related to **Machine Learning** section of the **Artificial Intelligence** course at **Shahid Beheshti University**. ([Course repository link](https://github.com/SBU-CE/Artificial-Intelligence)).\n",
    "\n",
    "In this notebook, we will take advantage of three principal python libraries for data science and machine learning tasks.\n",
    "\n",
    " - [Numpy](https://numpy.org): The fundamental package for **scientific computing** with Python.\n",
    " - [Pandas](https://pandas.pydata.org): An open source **data analysis and manipulation tool**, built on top of the Python programming language.\n",
    " - [Matplotlib](https://matplotlib.org) : A comprehensive library for **creating static, animated, and interactive visualizations** in Python.\n",
    " \n",
    " \n",
    " **Before you start:** Please read the ***Submission*** section at the bottom of the notebook carefully."
   ]
  },
  {
   "cell_type": "markdown",
   "id": "american-desperate",
   "metadata": {
    "id": "american-desperate"
   },
   "source": [
    "# 0. What Is Log Analysis & Why Is It Important? "
   ]
  },
  {
   "cell_type": "markdown",
   "id": "cardiac-student",
   "metadata": {
    "id": "cardiac-student"
   },
   "source": [
    "**Log analysis** is the process of making sense of computer-generated log messages, also known as log events, audit trail records, or simply logs. Most businesses are required to archive and analyze logs of their websites requests from their clients as part of their compliance regulations. \n",
    "\n",
    "They must regularly perform system log monitoring and analysis to search for **errors**, **anomalies**, or **suspicious** or **unauthorized activity** that deviates from the norm. Log analysis allows them to re-create the chain of events that led up to a problem and effectively troubleshoot it.\n",
    "\n",
    "Web sever logs contain information on any event that was registered/logged. This contains a lot of insights on website visitors, behavior, crawlers accessing the site, business insights, security issues, and more."
   ]
  },
  {
   "cell_type": "markdown",
   "id": "afraid-transsexual",
   "metadata": {
    "id": "afraid-transsexual"
   },
   "source": [
    "## Data\n",
    "\n",
    "In this notebook, we will use the 3.3GB of logs from an Iranian ecommerce website [zanbil.ir](zanbil.ir). \n",
    "\n",
    "**Acknowledgements**: \n",
    "Zaker, Farzin, 2019, \"*Online Shopping Store - Web Server Logs*\", https://doi.org/10.7910/DVN/3QBYB5, Harvard Dataverse, V1.\n",
    "\n",
    "Please download the raw dataset `access.log` from https://www.kaggle.com/eliasdabbas/web-server-access-logs([~ 264MB]) and put it besides this notebook in the current directory.\n",
    "\n",
    "So let's dive into it!"
   ]
  },
  {
   "cell_type": "markdown",
   "id": "residential-mainstream",
   "metadata": {
    "id": "residential-mainstream"
   },
   "source": [
    "## Setup\n",
    "\n",
    "We will heavily use NumPy, Pandas and Matplotlib libraries in this assignment. Notice that you are free to import other libraries in case they are needed."
   ]
  },
  {
   "cell_type": "code",
   "execution_count": 1,
   "id": "recovered-habitat",
   "metadata": {
    "id": "recovered-habitat"
   },
   "outputs": [],
   "source": [
    "import numpy as np\n",
    "import pandas as pd\n",
    "import matplotlib.pyplot as plt"
   ]
  },
  {
   "cell_type": "markdown",
   "id": "municipal-elevation",
   "metadata": {
    "id": "municipal-elevation"
   },
   "source": [
    "# 1. Convert a Log File Into an Efficient DataFrame\n",
    "\n",
    "This first step is the prototype of a process of converting a log file to an efficient format on disk (Apache Parquet), and then to read it into an efficient DataFrame with optimized datatypes.\n",
    "\n",
    "In this part we convert a 3.3 GB text file to a 256 MB parquet file, which is later read into a 297 MB DataFrame. The total time can vary between two to five minutes, depending on the system used. \n",
    "\n",
    "**Note**: Make sure to **sequentially run all the cells**, so that the intermediate variables / packages will carry over to the next cell."
   ]
  },
  {
   "cell_type": "code",
   "execution_count": 2,
   "id": "electric-classic",
   "metadata": {
    "id": "electric-classic",
    "outputId": "c32115b2-2c8a-415d-a6ac-6fc49255fcd4"
   },
   "outputs": [
    {
     "name": "stdout",
     "output_type": "stream",
     "text": [
      "54.36.149.41 - - [22/Jan/2019:03:56:14 +0330] \"GET /filter/27|13%20%D9%85%DA%AF%D8%A7%D9%BE%DB%8C%DA%A9%D8%B3%D9%84,27|%DA%A9%D9%85%D8%AA%D8%B1%20%D8%A7%D8%B2%205%20%D9%85%DA%AF%D8%A7%D9%BE%DB%8C%DA%A9%D8%B3%D9%84,p53 HTTP/1.1\" 200 30577 \"-\" \"Mozilla/5.0 (compatible; AhrefsBot/6.1; +http://ahrefs.com/robot/)\" \"-\"\n",
      "31.56.96.51 - - [22/Jan/2019:03:56:16 +0330] \"GET /image/60844/productModel/200x200 HTTP/1.1\" 200 5667 \"https://www.zanbil.ir/m/filter/b113\" \"Mozilla/5.0 (Linux; Android 6.0; ALE-L21 Build/HuaweiALE-L21) AppleWebKit/537.36 (KHTML, like Gecko) Chrome/66.0.3359.158 Mobile Safari/537.36\" \"-\"\n",
      "31.56.96.51 - - [22/Jan/2019:03:56:16 +0330] \"GET /image/61474/productModel/200x200 HTTP/1.1\" 200 5379 \"https://www.zanbil.ir/m/filter/b113\" \"Mozilla/5.0 (Linux; Android 6.0; ALE-L21 Build/HuaweiALE-L21) AppleWebKit/537.36 (KHTML, like Gecko) Chrome/66.0.3359.158 Mobile Safari/537.36\" \"-\"\n"
     ]
    }
   ],
   "source": [
    "# read some sample lines from the log file\n",
    "!head -n 3 access.log"
   ]
  },
  {
   "cell_type": "markdown",
   "id": "solid-fancy",
   "metadata": {
    "id": "solid-fancy"
   },
   "source": [
    "## Log Format\n",
    "\n",
    "This approach assumes the common log format and/or the combined one, which are two of the most commonly used. Eventually other formats can be incorporated. We start with the below regular expression taken from:\n",
    "\n",
    "[Regular Expression Cookbook](https://www.oreilly.com/library/view/regular-expressions-cookbook/9781449327453/ch07s12.html)\n",
    "\n",
    "by *Jan Goyvaerts, Steven Levithan*\n",
    "\n",
    "Publisher: O'Reilly Media, Inc. Release Date: August 2012"
   ]
  },
  {
   "cell_type": "code",
   "execution_count": 3,
   "id": "forward-zimbabwe",
   "metadata": {
    "id": "forward-zimbabwe"
   },
   "outputs": [],
   "source": [
    "# There is a minor bug in this regex, it misses the last field. we'll fix this soon. \n",
    "\n",
    "common_regex = '^(?P<client>\\S+) \\S+ (?P<userid>\\S+) \\[(?P<datetime>[^\\]]+)\\] \"(?P<method>[A-Z]+) (?P<request>[^ \"]+)? HTTP/[0-9.]+\" (?P<status>[0-9]{3}) (?P<size>[0-9]+|-)'\n",
    "combined_regex = '^(?P<client>\\S+) \\S+ (?P<userid>\\S+) \\[(?P<datetime>[^\\]]+)\\] \"(?P<method>[A-Z]+) (?P<request>[^ \"]+)? HTTP/[0-9.]+\" (?P<status>[0-9]{3}) (?P<size>[0-9]+|-) \"(?P<referrer>[^\"]*)\" \"(?P<useragent>[^\"]*)'\n",
    "columns = ['client', 'userid', 'datetime', 'method', 'request', 'status', 'size', 'referer', 'user_agent']"
   ]
  },
  {
   "cell_type": "markdown",
   "id": "biological-skating",
   "metadata": {
    "id": "biological-skating"
   },
   "source": [
    "## The Approach\n",
    "\n",
    "* Loop through the lines of the input log file one by one. This ensures minimal memory consumption. \n",
    "* For each line, check it against the regular expression, and process it: \n",
    "  * Match: append the matched line to a `parsed_lines` list\n",
    "  * No match: append the non-matching line to the `errors_file` for later analysis\n",
    "* Once `parsed_lines` reaches 250,000 elements, convert the list to a DataFrame and save it to a `parquet` file in the `output_dir`. Clear the list. This also ensures minimal memory usage, and the 250k can be tweaked if necessary.\n",
    "* Read all the files of the `output_dir` with `read_parquet` into a pandas DataFrame. This function handles reading all the files and combines them. \n",
    "* Optimize the columns by using more efficient data types, most notably the pandas categorical type.\n",
    "* Write the DataFrame to a single file, for more convenient handling, and with the more efficient datatypes. This results in even faster reading.\n",
    "* Delete the files in `output_dir`.\n",
    "* Read in the final file with `read_parquet`.\n",
    "* Happy log server analyzing!\n"
   ]
  },
  {
   "cell_type": "code",
   "execution_count": 4,
   "id": "moving-bankruptcy",
   "metadata": {
    "id": "moving-bankruptcy"
   },
   "outputs": [
    {
     "name": "stderr",
     "output_type": "stream",
     "text": [
      "A subdirectory or file parquet_dir already exists.\n"
     ]
    }
   ],
   "source": [
    "# Create a destinatoin directory where output files will be stored\n",
    "%mkdir parquet_dir"
   ]
  },
  {
   "cell_type": "code",
   "execution_count": 5,
   "id": "animal-cloud",
   "metadata": {
    "id": "animal-cloud"
   },
   "outputs": [
    {
     "name": "stdout",
     "output_type": "stream",
     "text": [
      "Requirement already satisfied: pyarrow in c:\\users\\asus\\appdata\\roaming\\python\\python39\\site-packages (6.0.1)\n",
      "Requirement already satisfied: numpy>=1.16.6 in c:\\programdata\\anaconda3\\lib\\site-packages (from pyarrow) (1.20.3)\n",
      "Note: you may need to restart the kernel to use updated packages.\n",
      "Requirement already satisfied: fastparquet in c:\\users\\asus\\appdata\\roaming\\python\\python39\\site-packages (0.7.2)\n",
      "Requirement already satisfied: thrift>=0.11.0 in c:\\users\\asus\\appdata\\roaming\\python\\python39\\site-packages (from fastparquet) (0.15.0)\n",
      "Requirement already satisfied: fsspec in c:\\users\\asus\\appdata\\roaming\\python\\python39\\site-packages (from fastparquet) (2021.11.1)\n",
      "Requirement already satisfied: cramjam>=2.3.0 in c:\\users\\asus\\appdata\\roaming\\python\\python39\\site-packages (from fastparquet) (2.5.0)\n",
      "Requirement already satisfied: numpy>=1.18 in c:\\programdata\\anaconda3\\lib\\site-packages (from fastparquet) (1.20.3)\n",
      "Requirement already satisfied: pandas>=1.1.0 in c:\\programdata\\anaconda3\\lib\\site-packages (from fastparquet) (1.3.4)\n",
      "Requirement already satisfied: python-dateutil>=2.7.3 in c:\\programdata\\anaconda3\\lib\\site-packages (from pandas>=1.1.0->fastparquet) (2.8.2)\n",
      "Requirement already satisfied: pytz>=2017.3 in c:\\programdata\\anaconda3\\lib\\site-packages (from pandas>=1.1.0->fastparquet) (2021.3)\n",
      "Requirement already satisfied: six>=1.5 in c:\\programdata\\anaconda3\\lib\\site-packages (from python-dateutil>=2.7.3->pandas>=1.1.0->fastparquet) (1.16.0)\n",
      "Note: you may need to restart the kernel to use updated packages.\n"
     ]
    }
   ],
   "source": [
    "# install some usefull packages for converting log file to parquet format\n",
    "\n",
    "%pip install pyarrow --user\n",
    "%pip install fastparquet --user"
   ]
  },
  {
   "cell_type": "markdown",
   "id": "foreign-nursing",
   "metadata": {
    "id": "foreign-nursing"
   },
   "source": [
    "## The `logs_to_df` Function\n",
    "\n",
    "This function will convert the `access.log` file into an optimized `DataFrame` and also write the errors happend during converting (e.g. some lines of the log file are not following the common format of nginx log) intp `errors.txt`."
   ]
  },
  {
   "cell_type": "code",
   "execution_count": 6,
   "id": "adult-farmer",
   "metadata": {
    "id": "adult-farmer"
   },
   "outputs": [],
   "source": [
    "import time\n",
    "import re\n",
    "from tqdm import tqdm\n",
    "\n",
    "def logs_to_df(logfile, output_dir, errors_file):\n",
    "    with open(logfile) as source_file:\n",
    "        linenumber = 0\n",
    "        parsed_lines = []\n",
    "        for line in tqdm(source_file):\n",
    "            try:\n",
    "                log_line = re.findall(combined_regex, line)[0]\n",
    "                parsed_lines.append(log_line)\n",
    "            except Exception as e:\n",
    "                with open(errors_file, 'at') as errfile:\n",
    "                    print((line, str(e)), file=errfile)\n",
    "                continue\n",
    "            linenumber += 1\n",
    "            if linenumber % 250_000 == 0:\n",
    "                df = pd.DataFrame(parsed_lines, columns=columns)\n",
    "                df.to_parquet(f'{output_dir}/file_{linenumber}.parquet')\n",
    "                parsed_lines.clear()\n",
    "        else:\n",
    "            df = pd.DataFrame(parsed_lines, columns=columns)\n",
    "            df.to_parquet(f'{output_dir}/file_{linenumber}.parquet')\n",
    "            parsed_lines.clear()"
   ]
  },
  {
   "cell_type": "code",
   "execution_count": 2,
   "id": "increasing-cradle",
   "metadata": {
    "id": "increasing-cradle",
    "outputId": "8a08cbb3-1c4b-4203-d4c0-c687863ae31a"
   },
   "outputs": [
    {
     "ename": "NameError",
     "evalue": "name 'logs_to_df' is not defined",
     "output_type": "error",
     "traceback": [
      "\u001b[1;31m---------------------------------------------------------------------------\u001b[0m",
      "\u001b[1;31mNameError\u001b[0m                                 Traceback (most recent call last)",
      "\u001b[1;32m<timed eval>\u001b[0m in \u001b[0;36m<module>\u001b[1;34m\u001b[0m\n",
      "\u001b[1;31mNameError\u001b[0m: name 'logs_to_df' is not defined"
     ]
    }
   ],
   "source": [
    "# Times will vary from system to system, and I will use the approximate values, \n",
    "# so when you read this, you will likely see slightly different numbers.\n",
    "\n",
    "%time logs_to_df(logfile='access.log', output_dir='parquet_dir/', errors_file='errors.txt')"
   ]
  },
  {
   "cell_type": "markdown",
   "id": "seven-architect",
   "metadata": {
    "id": "seven-architect"
   },
   "source": [
    "Actually we are now ready to start analysis, as we have the parquet files that can be read. But we will optimize them even more.\n",
    "\n",
    "Just let's check the number of resulting parsing errors:"
   ]
  },
  {
   "cell_type": "code",
   "execution_count": 8,
   "id": "married-estate",
   "metadata": {
    "id": "married-estate",
    "outputId": "7e149881-960c-4322-fed1-93edb8a63e70"
   },
   "outputs": [
    {
     "name": "stdout",
     "output_type": "stream",
     "text": [
      "   583  14285 459568 errors.txt\n"
     ]
    }
   ],
   "source": [
    "!wc errors.txt"
   ]
  },
  {
   "cell_type": "markdown",
   "id": "lyric-latest",
   "metadata": {
    "id": "lyric-latest"
   },
   "source": [
    "Now we are able to read the whole parquet files. Reading the whole directory takes about nine seconds. We now check the size of the resulting directory on disk:"
   ]
  },
  {
   "cell_type": "code",
   "execution_count": 3,
   "id": "tutorial-promise",
   "metadata": {
    "id": "tutorial-promise",
    "outputId": "24e0425d-ddef-4ff0-d53f-b3d4e58761c6"
   },
   "outputs": [
    {
     "name": "stdout",
     "output_type": "stream",
     "text": [
      "Wall time: 5.81 s\n"
     ]
    }
   ],
   "source": [
    "%time logs_df = pd.read_parquet('parquet_dir/')"
   ]
  },
  {
   "cell_type": "code",
   "execution_count": 4,
   "id": "activated-strip",
   "metadata": {
    "id": "activated-strip",
    "outputId": "f0a3b4d4-5534-4d63-bc88-7f1f8cec0dba"
   },
   "outputs": [
    {
     "name": "stdout",
     "output_type": "stream",
     "text": [
      "257M\tparquet_dir/\n"
     ]
    }
   ],
   "source": [
    "!du -sh parquet_dir/"
   ]
  },
  {
   "cell_type": "markdown",
   "id": "cosmetic-fitting",
   "metadata": {
    "id": "cosmetic-fitting"
   },
   "source": [
    "256 ÷ 3,300 = 0.07.\n",
    "\n",
    "The resulting file is **7%** the size of the original!\n",
    "\n",
    "Let's see how much memory it takes:"
   ]
  },
  {
   "cell_type": "code",
   "execution_count": 5,
   "id": "portable-squad",
   "metadata": {
    "id": "portable-squad",
    "outputId": "e34a1251-d0ef-413f-bd85-317018ce6182"
   },
   "outputs": [
    {
     "name": "stdout",
     "output_type": "stream",
     "text": [
      "<class 'pandas.core.frame.DataFrame'>\n",
      "RangeIndex: 10364865 entries, 0 to 10364864\n",
      "Data columns (total 9 columns):\n",
      " #   Column      Non-Null Count     Dtype \n",
      "---  ------      --------------     ----- \n",
      " 0   client      10364865 non-null  object\n",
      " 1   userid      10364865 non-null  object\n",
      " 2   datetime    10364865 non-null  object\n",
      " 3   method      10364865 non-null  object\n",
      " 4   request     10364865 non-null  object\n",
      " 5   status      10364865 non-null  object\n",
      " 6   size        10364865 non-null  object\n",
      " 7   referer     10364865 non-null  object\n",
      " 8   user_agent  10364865 non-null  object\n",
      "dtypes: object(9)\n",
      "memory usage: 711.7+ MB\n"
     ]
    }
   ],
   "source": [
    "logs_df.info(show_counts=True, verbose=True)"
   ]
  },
  {
   "cell_type": "markdown",
   "id": "special-planet",
   "metadata": {
    "id": "special-planet"
   },
   "source": [
    "711 MB. We now can remove the files in `parquet_dir` and optimize the datatypes and use more efficient ones. \n",
    "\n",
    "**Note**: You can keep it for later usages. Since the kernel will die after you terminate the notebook, the dataframe will be removed from memory."
   ]
  },
  {
   "cell_type": "code",
   "execution_count": 6,
   "id": "guilty-midwest",
   "metadata": {
    "id": "guilty-midwest"
   },
   "outputs": [],
   "source": [
    "# %rm -r parquet_dir/"
   ]
  },
  {
   "cell_type": "markdown",
   "id": "incredible-choir",
   "metadata": {
    "id": "incredible-choir"
   },
   "source": [
    "Now we optimize the dataframe by changing the column data types. It may take a few seconds:"
   ]
  },
  {
   "cell_type": "code",
   "execution_count": 5,
   "id": "exceptional-elimination",
   "metadata": {
    "id": "exceptional-elimination"
   },
   "outputs": [],
   "source": [
    "logs_df['client'] = logs_df['client'].astype('category')\n",
    "del logs_df['userid']\n",
    "logs_df['datetime'] = pd.to_datetime(logs_df['datetime'], format='%d/%b/%Y:%H:%M:%S %z')\n",
    "logs_df['method'] = logs_df['method'].astype('category')\n",
    "logs_df['status'] = logs_df['status'].astype('int16')\n",
    "logs_df['size'] = logs_df['size'].astype('int32')\n",
    "logs_df['referer'] = logs_df['referer'].astype('category')\n",
    "logs_df['user_agent'] = logs_df['user_agent'].astype('category')"
   ]
  },
  {
   "cell_type": "markdown",
   "id": "medieval-possession",
   "metadata": {
    "id": "medieval-possession"
   },
   "source": [
    "**Note**: Some types are considered as `Categorical`. (client, method, referer and user_agent). You may need to convert them to *string* in some questions."
   ]
  },
  {
   "cell_type": "code",
   "execution_count": 14,
   "id": "critical-cotton",
   "metadata": {
    "id": "critical-cotton",
    "outputId": "cb5a4500-2e5b-4d86-84bc-1bbfde1c22f1",
    "scrolled": true
   },
   "outputs": [
    {
     "name": "stdout",
     "output_type": "stream",
     "text": [
      "<class 'pandas.core.frame.DataFrame'>\n",
      "RangeIndex: 10364865 entries, 0 to 10364864\n",
      "Data columns (total 8 columns):\n",
      " #   Column      Non-Null Count     Dtype                                \n",
      "---  ------      --------------     -----                                \n",
      " 0   client      10364865 non-null  category                             \n",
      " 1   datetime    10364865 non-null  datetime64[ns, pytz.FixedOffset(210)]\n",
      " 2   method      10364865 non-null  category                             \n",
      " 3   request     10364865 non-null  object                               \n",
      " 4   status      10364865 non-null  int16                                \n",
      " 5   size        10364865 non-null  int32                                \n",
      " 6   referer     10364865 non-null  category                             \n",
      " 7   user_agent  10364865 non-null  category                             \n",
      "dtypes: category(4), datetime64[ns, pytz.FixedOffset(210)](1), int16(1), int32(1), object(1)\n",
      "memory usage: 342.3+ MB\n"
     ]
    }
   ],
   "source": [
    "logs_df.info(verbose=True, show_counts=True)"
   ]
  },
  {
   "cell_type": "markdown",
   "id": "clean-crown",
   "metadata": {
    "id": "clean-crown"
   },
   "source": [
    "The file was reduced further from 711 to 298 MB. (342 ÷ 711 = 0.42 of the original size).\n",
    "\n",
    "We now save it to a single file, and read again."
   ]
  },
  {
   "cell_type": "code",
   "execution_count": 6,
   "id": "gothic-portable",
   "metadata": {
    "id": "gothic-portable"
   },
   "outputs": [],
   "source": [
    "logs_df.to_parquet('logs_df.parquet')"
   ]
  },
  {
   "cell_type": "markdown",
   "id": "devoted-diabetes",
   "metadata": {
    "id": "devoted-diabetes"
   },
   "source": [
    "## Read the Parquet file into a DataFrame"
   ]
  },
  {
   "cell_type": "code",
   "execution_count": 5,
   "id": "adult-rugby",
   "metadata": {
    "id": "adult-rugby",
    "outputId": "8ca11789-1764-4a22-c2d0-24b97e7db078"
   },
   "outputs": [
    {
     "name": "stdout",
     "output_type": "stream",
     "text": [
      "DataFrame shape: (10364865, 8)\n"
     ]
    },
    {
     "data": {
      "text/html": [
       "<div>\n",
       "<style scoped>\n",
       "    .dataframe tbody tr th:only-of-type {\n",
       "        vertical-align: middle;\n",
       "    }\n",
       "\n",
       "    .dataframe tbody tr th {\n",
       "        vertical-align: top;\n",
       "    }\n",
       "\n",
       "    .dataframe thead th {\n",
       "        text-align: right;\n",
       "    }\n",
       "</style>\n",
       "<table border=\"1\" class=\"dataframe\">\n",
       "  <thead>\n",
       "    <tr style=\"text-align: right;\">\n",
       "      <th></th>\n",
       "      <th>client</th>\n",
       "      <th>datetime</th>\n",
       "      <th>method</th>\n",
       "      <th>request</th>\n",
       "      <th>status</th>\n",
       "      <th>size</th>\n",
       "      <th>referer</th>\n",
       "      <th>user_agent</th>\n",
       "    </tr>\n",
       "  </thead>\n",
       "  <tbody>\n",
       "    <tr>\n",
       "      <th>0</th>\n",
       "      <td>37.152.163.59</td>\n",
       "      <td>2019-01-22 12:38:27+03:30</td>\n",
       "      <td>GET</td>\n",
       "      <td>/image/29314?name=%D8%AF%DB%8C%D8%A8%D8%A7-7.j...</td>\n",
       "      <td>200</td>\n",
       "      <td>1105</td>\n",
       "      <td>https://www.zanbil.ir/product/29314/%DA%A9%D8%...</td>\n",
       "      <td>Mozilla/5.0 (Windows NT 6.1; WOW64; Trident/7....</td>\n",
       "    </tr>\n",
       "    <tr>\n",
       "      <th>1</th>\n",
       "      <td>37.152.163.59</td>\n",
       "      <td>2019-01-22 12:38:27+03:30</td>\n",
       "      <td>GET</td>\n",
       "      <td>/static/images/zanbil-kharid.png</td>\n",
       "      <td>200</td>\n",
       "      <td>358</td>\n",
       "      <td>https://www.zanbil.ir/product/29314/%DA%A9%D8%...</td>\n",
       "      <td>Mozilla/5.0 (Windows NT 6.1; WOW64; Trident/7....</td>\n",
       "    </tr>\n",
       "    <tr>\n",
       "      <th>2</th>\n",
       "      <td>85.9.73.119</td>\n",
       "      <td>2019-01-22 12:38:27+03:30</td>\n",
       "      <td>GET</td>\n",
       "      <td>/static/images/next.png</td>\n",
       "      <td>200</td>\n",
       "      <td>3045</td>\n",
       "      <td>https://znbl.ir/static/bundle-bundle_site_head...</td>\n",
       "      <td>Mozilla/5.0 (Windows NT 6.1; Win64; x64) Apple...</td>\n",
       "    </tr>\n",
       "    <tr>\n",
       "      <th>3</th>\n",
       "      <td>37.152.163.59</td>\n",
       "      <td>2019-01-22 12:38:27+03:30</td>\n",
       "      <td>GET</td>\n",
       "      <td>/image/29314?name=%D8%AF%DB%8C%D8%A8%D8%A7-4.j...</td>\n",
       "      <td>200</td>\n",
       "      <td>1457</td>\n",
       "      <td>https://www.zanbil.ir/product/29314/%DA%A9%D8%...</td>\n",
       "      <td>Mozilla/5.0 (Windows NT 6.1; WOW64; Trident/7....</td>\n",
       "    </tr>\n",
       "    <tr>\n",
       "      <th>4</th>\n",
       "      <td>85.9.73.119</td>\n",
       "      <td>2019-01-22 12:38:27+03:30</td>\n",
       "      <td>GET</td>\n",
       "      <td>/static/images/checked.png</td>\n",
       "      <td>200</td>\n",
       "      <td>1083</td>\n",
       "      <td>https://znbl.ir/static/bundle-bundle_site_head...</td>\n",
       "      <td>Mozilla/5.0 (Windows NT 6.1; Win64; x64) Apple...</td>\n",
       "    </tr>\n",
       "    <tr>\n",
       "      <th>5</th>\n",
       "      <td>37.152.163.59</td>\n",
       "      <td>2019-01-22 12:38:27+03:30</td>\n",
       "      <td>GET</td>\n",
       "      <td>/static/images/loading.gif</td>\n",
       "      <td>200</td>\n",
       "      <td>7370</td>\n",
       "      <td>https://www.zanbil.ir/product/29314/%DA%A9%D8%...</td>\n",
       "      <td>Mozilla/5.0 (Windows NT 6.1; WOW64; Trident/7....</td>\n",
       "    </tr>\n",
       "    <tr>\n",
       "      <th>6</th>\n",
       "      <td>77.245.233.52</td>\n",
       "      <td>2019-01-22 12:38:27+03:30</td>\n",
       "      <td>GET</td>\n",
       "      <td>/image/11082/productType/240x180</td>\n",
       "      <td>200</td>\n",
       "      <td>12458</td>\n",
       "      <td>https://www.zanbil.ir/browse/sports/%D8%AA%D8%...</td>\n",
       "      <td>Mozilla/5.0 (Windows NT 6.1; rv:64.0) Gecko/20...</td>\n",
       "    </tr>\n",
       "    <tr>\n",
       "      <th>7</th>\n",
       "      <td>37.27.128.139</td>\n",
       "      <td>2019-01-22 12:38:27+03:30</td>\n",
       "      <td>GET</td>\n",
       "      <td>/browse/Tablet-Arm-Chair/%D8%B5%D9%86%D8%AF%D9...</td>\n",
       "      <td>200</td>\n",
       "      <td>30604</td>\n",
       "      <td>https://www.zanbil.ir/browse/Classroom-Furnitu...</td>\n",
       "      <td>Mozilla/5.0 (Windows NT 5.1) AppleWebKit/537.3...</td>\n",
       "    </tr>\n",
       "    <tr>\n",
       "      <th>8</th>\n",
       "      <td>77.245.233.52</td>\n",
       "      <td>2019-01-22 12:38:27+03:30</td>\n",
       "      <td>GET</td>\n",
       "      <td>/image/851/mainSlide</td>\n",
       "      <td>200</td>\n",
       "      <td>89859</td>\n",
       "      <td>https://www.zanbil.ir/browse/sports/%D8%AA%D8%...</td>\n",
       "      <td>Mozilla/5.0 (Windows NT 6.1; rv:64.0) Gecko/20...</td>\n",
       "    </tr>\n",
       "    <tr>\n",
       "      <th>9</th>\n",
       "      <td>77.245.233.52</td>\n",
       "      <td>2019-01-22 12:38:27+03:30</td>\n",
       "      <td>GET</td>\n",
       "      <td>/image/848/mainSlide</td>\n",
       "      <td>200</td>\n",
       "      <td>93168</td>\n",
       "      <td>https://www.zanbil.ir/browse/sports/%D8%AA%D8%...</td>\n",
       "      <td>Mozilla/5.0 (Windows NT 6.1; rv:64.0) Gecko/20...</td>\n",
       "    </tr>\n",
       "  </tbody>\n",
       "</table>\n",
       "</div>"
      ],
      "text/plain": [
       "          client                  datetime method  \\\n",
       "0  37.152.163.59 2019-01-22 12:38:27+03:30    GET   \n",
       "1  37.152.163.59 2019-01-22 12:38:27+03:30    GET   \n",
       "2    85.9.73.119 2019-01-22 12:38:27+03:30    GET   \n",
       "3  37.152.163.59 2019-01-22 12:38:27+03:30    GET   \n",
       "4    85.9.73.119 2019-01-22 12:38:27+03:30    GET   \n",
       "5  37.152.163.59 2019-01-22 12:38:27+03:30    GET   \n",
       "6  77.245.233.52 2019-01-22 12:38:27+03:30    GET   \n",
       "7  37.27.128.139 2019-01-22 12:38:27+03:30    GET   \n",
       "8  77.245.233.52 2019-01-22 12:38:27+03:30    GET   \n",
       "9  77.245.233.52 2019-01-22 12:38:27+03:30    GET   \n",
       "\n",
       "                                             request  status   size  \\\n",
       "0  /image/29314?name=%D8%AF%DB%8C%D8%A8%D8%A7-7.j...     200   1105   \n",
       "1                   /static/images/zanbil-kharid.png     200    358   \n",
       "2                            /static/images/next.png     200   3045   \n",
       "3  /image/29314?name=%D8%AF%DB%8C%D8%A8%D8%A7-4.j...     200   1457   \n",
       "4                         /static/images/checked.png     200   1083   \n",
       "5                         /static/images/loading.gif     200   7370   \n",
       "6                   /image/11082/productType/240x180     200  12458   \n",
       "7  /browse/Tablet-Arm-Chair/%D8%B5%D9%86%D8%AF%D9...     200  30604   \n",
       "8                               /image/851/mainSlide     200  89859   \n",
       "9                               /image/848/mainSlide     200  93168   \n",
       "\n",
       "                                             referer  \\\n",
       "0  https://www.zanbil.ir/product/29314/%DA%A9%D8%...   \n",
       "1  https://www.zanbil.ir/product/29314/%DA%A9%D8%...   \n",
       "2  https://znbl.ir/static/bundle-bundle_site_head...   \n",
       "3  https://www.zanbil.ir/product/29314/%DA%A9%D8%...   \n",
       "4  https://znbl.ir/static/bundle-bundle_site_head...   \n",
       "5  https://www.zanbil.ir/product/29314/%DA%A9%D8%...   \n",
       "6  https://www.zanbil.ir/browse/sports/%D8%AA%D8%...   \n",
       "7  https://www.zanbil.ir/browse/Classroom-Furnitu...   \n",
       "8  https://www.zanbil.ir/browse/sports/%D8%AA%D8%...   \n",
       "9  https://www.zanbil.ir/browse/sports/%D8%AA%D8%...   \n",
       "\n",
       "                                          user_agent  \n",
       "0  Mozilla/5.0 (Windows NT 6.1; WOW64; Trident/7....  \n",
       "1  Mozilla/5.0 (Windows NT 6.1; WOW64; Trident/7....  \n",
       "2  Mozilla/5.0 (Windows NT 6.1; Win64; x64) Apple...  \n",
       "3  Mozilla/5.0 (Windows NT 6.1; WOW64; Trident/7....  \n",
       "4  Mozilla/5.0 (Windows NT 6.1; Win64; x64) Apple...  \n",
       "5  Mozilla/5.0 (Windows NT 6.1; WOW64; Trident/7....  \n",
       "6  Mozilla/5.0 (Windows NT 6.1; rv:64.0) Gecko/20...  \n",
       "7  Mozilla/5.0 (Windows NT 5.1) AppleWebKit/537.3...  \n",
       "8  Mozilla/5.0 (Windows NT 6.1; rv:64.0) Gecko/20...  \n",
       "9  Mozilla/5.0 (Windows NT 6.1; rv:64.0) Gecko/20...  "
      ]
     },
     "execution_count": 5,
     "metadata": {},
     "output_type": "execute_result"
    }
   ],
   "source": [
    "# Read the optimized parquet file into a dataframe\n",
    "logs_df = pd.read_parquet('logs_df.parquet')\n",
    "\n",
    "print ('DataFrame shape: {}'.format(logs_df.shape))\n",
    "logs_df.head(10)"
   ]
  },
  {
   "cell_type": "markdown",
   "id": "shared-referral",
   "metadata": {
    "id": "shared-referral"
   },
   "source": [
    "# 2. Exploratory Data Analysis (EDA)\n",
    "\n",
    "What's EDA? **Exploratory Data Analysis (EDA)** is an approach for data analysis that employs a variety of techniques (mostly graphical) to\n",
    "\n",
    "  - Maximize insight into a data set.\n",
    "  - Uncover underlying structure.\n",
    "  - Extract important variables.\n",
    "  - Detect outliers and anomalies.\n",
    "  - Test underlying assumptions.\n",
    "  \n",
    "EDA is a primary task before each data-driven algorithms. Most EDA techniques are **graphical** in nature with a few quantitative techniques. The reason for the heavy reliance on graphics is that by its very nature the main role of EDA is to open-mindedly explore, and graphics gives the analysts unparalleled power to do so, enticing the data to reveal its structural secrets, and being always ready to gain some new, often unsuspected, insight into the data.\n",
    "\n",
    "In this assignment, you will implement some of these methods step by step."
   ]
  },
  {
   "cell_type": "markdown",
   "id": "concerned-compound",
   "metadata": {
    "id": "concerned-compound"
   },
   "source": [
    "## Q1. Extract the most visited clients. (10 points)\n",
    "\n",
    "What are the top n'th visited clients? Fill the function below to: \n",
    "\n",
    "   1. Return the top n'th visited IPs as `pandas.DataFrame`\n",
    "   2. Plot them within a **horizontal bar chart**. You can use the matplotlib [documentation](https://matplotlib.org/stable/gallery/lines_bars_and_markers/barh.html)."
   ]
  },
  {
   "cell_type": "code",
   "execution_count": 6,
   "id": "quick-officer",
   "metadata": {
    "id": "quick-officer"
   },
   "outputs": [
    {
     "data": {
      "image/png": "[encoded data removed]",
      "text/plain": [
       "<Figure size 432x288 with 1 Axes>"
      ]
     },
     "metadata": {
      "needs_background": "light"
     },
     "output_type": "display_data"
    }
   ],
   "source": [
    "def top_clients(df, n=10):\n",
    "    # TODO: Implement this function that takes a pd.DataFrame and n\n",
    "    # as an integer number and returns the top n'th visited IPs(clients).\n",
    "    # Also it must plot a horizontal bar chart with appropriate labels and colors.\n",
    "    # Note that your code must work for all n's as input.\n",
    "    \n",
    "\n",
    "    top_n_visited_clients = df\n",
    "    ############# Your code here ############\n",
    "    x = top_n_visited_clients.groupby('client').agg({\"client\":'count'}).rename(columns={'client':'number_of_visit'})\n",
    "    x = x.sort_values('number_of_visit' ,  ascending=False)\n",
    "    top_n_visited_clients = x.head(n)\n",
    "    #########################################\n",
    "    top_n_visited_clients.plot.barh()\n",
    "   \n",
    "    return top_n_visited_clients\n",
    "\n",
    "\n",
    "top_n_visited_clients = top_clients(logs_df, n=10)\n",
    "assert type(top_n_visited_clients) == pd.DataFrame\n"
   ]
  },
  {
   "cell_type": "markdown",
   "id": "collectible-makeup",
   "metadata": {
    "id": "collectible-makeup"
   },
   "source": [
    "## Q2. What are the most frequent endpoints? (10 points)\n",
    "\n",
    "The `request` column in the main DataFrame is indicating the endpoints which clients has requested. Fill the function below to:\n",
    "\n",
    "  1. Return the top n'th frequent endpoints as a `pandas.DataFrame`\n",
    "  2. Plot them within a **Pie chart**. You can use the matplotlib [documentation](https://matplotlib.org/stable/gallery/pie_and_polar_charts/pie_features.html) as well."
   ]
  },
  {
   "cell_type": "code",
   "execution_count": 7,
   "id": "quantitative-local",
   "metadata": {
    "id": "quantitative-local"
   },
   "outputs": [
    {
     "data": {
      "image/png": "[encoded data removed]",
      "text/plain": [
       "<Figure size 432x288 with 1 Axes>"
      ]
     },
     "metadata": {},
     "output_type": "display_data"
    }
   ],
   "source": [
    "def top_endpoints(logs_df, n=5):\n",
    "    # TODO: Implement this function that takes a pd.DataFrame and n\n",
    "    # as an integer number and returns the top n'th frequent endpoints.\n",
    "    # Also it must plot a pie bar chart with appropriate labels and colors.\n",
    "    \n",
    "    # Note that your code must work for all n's as input.\n",
    "    \n",
    "    top_n_freq_endpoints = pd.DataFrame()\n",
    "    \n",
    "    ############# Your code here ############\n",
    "    top_n_freq_endpoints = logs_df\n",
    "    ############# Your code here ############\n",
    "    x = top_n_freq_endpoints.groupby('request').agg({\"request\":'count'}).rename(columns={'request':'number_of_visit'})\n",
    "    x = x.sort_values('number_of_visit' ,  ascending=False)\n",
    "    top_n_freq_endpoints = x.head(n)\n",
    "    #########################################\n",
    "    top_n_freq_endpoints.plot.pie(y = 'number_of_visit')\n",
    "    return top_n_freq_endpoints\n",
    "\n",
    "\n",
    "top_n_freq_endpoints = top_endpoints(logs_df, n=4)\n",
    "assert type(top_n_freq_endpoints) == pd.DataFrame"
   ]
  },
  {
   "cell_type": "markdown",
   "id": "educational-accuracy",
   "metadata": {
    "id": "educational-accuracy"
   },
   "source": [
    "## Q3. More in Endpoints! (10 points)\n",
    "\n",
    "In this question you **must** use **regex** to do some processing on endpoints (`request` column).\n",
    "\n",
    " 1. Remove all the query parameters in the endpoints. e.g. `/image/29314?name=%D8%AF%DB%8C%D8%A8%D8%A7-4.js` must be transformed to `/image/29314.js`\n",
    " \n",
    " 2. Then, what porportion of the endpoints including `/image` in their address, are really images? You can assume that images must only have `jpg`, `png`, `jpeg`, and `webp` extensions."
   ]
  },
  {
   "cell_type": "code",
   "execution_count": 5,
   "id": "reasonable-evaluation",
   "metadata": {
    "id": "reasonable-evaluation"
   },
   "outputs": [
    {
     "name": "stderr",
     "output_type": "stream",
     "text": [
      "C:\\Users\\asus\\AppData\\Local\\Temp/ipykernel_15864/3546702822.py:19: UserWarning: This pattern has match groups. To actually get the groups, use str.extract.\n",
      "  x = x.loc[logs_df['request'].str.contains(\"\\.(png)|(jpg)|(jpeg)|(webp)\")]\n"
     ]
    },
    {
     "name": "stdout",
     "output_type": "stream",
     "text": [
      "0.31055043710401065\n"
     ]
    }
   ],
   "source": [
    "def image_endpoints(logs_df):\n",
    "    # TODO: Implement this function that takes a pd.DataFrame\n",
    "    # and returns the (i) a preprocessed logs_df DataFrame.\n",
    "    # Also (ii) a float number between [0, 1] which indicates the porportion of endpoints including \n",
    "    # /image in their address being image files.\n",
    "\n",
    "    # Note: For the first part have to use python regex and avoid any loops.\n",
    "    \n",
    "    real_img_percentage = 0.0\n",
    "    \n",
    "    ############# Your code here ############\n",
    "    logs_df['request'] = logs_df['request'].replace(to_replace='\\?.*(\\.)',regex = True,value='.')\n",
    "    x = logs_df.loc[logs_df['request'].str.contains(\"/image\")]\n",
    "    t1 = x.count()['request']\n",
    "    x = x.loc[logs_df['request'].str.contains(\"\\.(png)|(jpg)|(jpeg)|(webp)\")]\n",
    "    t2 = x.count()['request']\n",
    "    real_img_percentage = t2/t1*100\n",
    "    #########################################\n",
    "    \n",
    "    return logs_df, real_img_percentage\n",
    "\n",
    "preprocessed_df, real_img_percentage = image_endpoints(logs_df)\n",
    "assert preprocessed_df.shape == logs_df.shape \n",
    "assert  real_img_percentage <= 1 and real_img_percentage >= 0\n",
    "print(real_img_percentage)"
   ]
  },
  {
   "cell_type": "markdown",
   "id": "coastal-virginia",
   "metadata": {
    "id": "coastal-virginia"
   },
   "source": [
    "## Q4. What can we infer from the status codes? (15 points)\n",
    "\n",
    "As we know, each request get a response code from the server which has it own meanings. Here is a summary for status code families definition:\n",
    "\n",
    " - **1xx**: An informational response indicates that the request was received and understood.\n",
    " - **2xx**: This class of status codes indicates the action requested by the client was received, understood, and accepted.\n",
    " - **3xx**: This class of status code indicates the client must take additional action to complete the request. Many of these status codes are used in URL redirection.\n",
    " - **4xx**: This class of status code is intended for situations in which the error seems to have been caused by the client\n",
    " - **5xx**: The server failed to fulfil a request.\n",
    " \n",
    " Read more about individual status codes [here](https://en.wikipedia.org/wiki/List_of_HTTP_status_codes).\n",
    " \n",
    " \n",
    "In this part, we want the **distribution** of each status codes has occured in the log file. Additionally we  want to notice that on which **hours** during a day the server may response to the client using error messages.\n",
    "\n",
    "**Note**: In this question you may need to use `pandas.to_datetime`."
   ]
  },
  {
   "cell_type": "code",
   "execution_count": 3,
   "id": "discrete-affiliation",
   "metadata": {
    "id": "discrete-affiliation"
   },
   "outputs": [
    {
     "data": {
      "image/png": "[encoded data removed]",
      "text/plain": [
       "<Figure size 432x288 with 1 Axes>"
      ]
     },
     "metadata": {
      "needs_background": "light"
     },
     "output_type": "display_data"
    }
   ],
   "source": [
    "def status_codes_ditribution(logs_df):\n",
    "    # TODO: Implement this function that takes a pd.DataFrame\n",
    "    # and (i) return a python list of unique values of the status codes\n",
    "    # and (ii) plot a vertical bar chart of status codes frequencies.\n",
    "    \n",
    "    status_codes_list = None\n",
    "    \n",
    "    ############# Your code here ############\n",
    "    status_codes_list = logs_df.status.unique()\n",
    "    x = logs_df.groupby('status')\n",
    "    x = x.agg({\"status\":'count'}).rename(columns={'status':'number_of_stauts'})\n",
    "    x.plot.bar(y = 'number_of_stauts')\n",
    "    #########################################\n",
    "    \n",
    "    return status_codes_list\n",
    "\n",
    "status_codes_list = status_codes_ditribution(logs_df)"
   ]
  },
  {
   "cell_type": "markdown",
   "id": "polish-toddler",
   "metadata": {
    "id": "polish-toddler"
   },
   "source": [
    "We want to create a DataFrame containing the total number of **4xx** and **5xx** responses for requests for each hour of the day. You must create a **2-column** DataFrame for each 4xx and 5xx families. This DataFrame must include **24 rows** which are corresponded to hours of a day.\n",
    "\n",
    "The structure of desired DataFrame is as followes:\n",
    "\n",
    "| hour | 4xx | 5xx | \n",
    "| --- | --- | --- |\n",
    "| 0 | ... | ... |\n",
    "| 1 | ... | ... |\n",
    "| 2 | ... | ... |\n",
    "| ... | ... | ... |\n",
    "| 21 | ... | ... |\n",
    "| 22 | ... | ... |\n",
    "| 23| ... | ... |\n"
   ]
  },
  {
   "cell_type": "code",
   "execution_count": 7,
   "id": "sharing-spending",
   "metadata": {
    "id": "sharing-spending"
   },
   "outputs": [
    {
     "name": "stderr",
     "output_type": "stream",
     "text": [
      "C:\\Users\\asus\\AppData\\Local\\Temp/ipykernel_23656/733480333.py:15: SettingWithCopyWarning: \n",
      "A value is trying to be set on a copy of a slice from a DataFrame.\n",
      "Try using .loc[row_indexer,col_indexer] = value instead\n",
      "\n",
      "See the caveats in the documentation: https://pandas.pydata.org/pandas-docs/stable/user_guide/indexing.html#returning-a-view-versus-a-copy\n",
      "  errors_freq_df['datetime'] = errors_freq_df['datetime'].transform(lambda x:x.hour)\n"
     ]
    },
    {
     "data": {
      "text/html": [
       "<div>\n",
       "<style scoped>\n",
       "    .dataframe tbody tr th:only-of-type {\n",
       "        vertical-align: middle;\n",
       "    }\n",
       "\n",
       "    .dataframe tbody tr th {\n",
       "        vertical-align: top;\n",
       "    }\n",
       "\n",
       "    .dataframe thead th {\n",
       "        text-align: right;\n",
       "    }\n",
       "</style>\n",
       "<table border=\"1\" class=\"dataframe\">\n",
       "  <thead>\n",
       "    <tr style=\"text-align: right;\">\n",
       "      <th></th>\n",
       "      <th>4xx</th>\n",
       "      <th>5xx</th>\n",
       "    </tr>\n",
       "    <tr>\n",
       "      <th>hour</th>\n",
       "      <th></th>\n",
       "      <th></th>\n",
       "    </tr>\n",
       "  </thead>\n",
       "  <tbody>\n",
       "    <tr>\n",
       "      <th>0</th>\n",
       "      <td>6021</td>\n",
       "      <td>17</td>\n",
       "    </tr>\n",
       "    <tr>\n",
       "      <th>1</th>\n",
       "      <td>4215</td>\n",
       "      <td>10</td>\n",
       "    </tr>\n",
       "    <tr>\n",
       "      <th>2</th>\n",
       "      <td>2394</td>\n",
       "      <td>8</td>\n",
       "    </tr>\n",
       "    <tr>\n",
       "      <th>3</th>\n",
       "      <td>1388</td>\n",
       "      <td>26</td>\n",
       "    </tr>\n",
       "    <tr>\n",
       "      <th>4</th>\n",
       "      <td>1871</td>\n",
       "      <td>3</td>\n",
       "    </tr>\n",
       "    <tr>\n",
       "      <th>5</th>\n",
       "      <td>1683</td>\n",
       "      <td>10</td>\n",
       "    </tr>\n",
       "    <tr>\n",
       "      <th>6</th>\n",
       "      <td>2036</td>\n",
       "      <td>3</td>\n",
       "    </tr>\n",
       "    <tr>\n",
       "      <th>7</th>\n",
       "      <td>2923</td>\n",
       "      <td>6</td>\n",
       "    </tr>\n",
       "    <tr>\n",
       "      <th>8</th>\n",
       "      <td>4985</td>\n",
       "      <td>76</td>\n",
       "    </tr>\n",
       "    <tr>\n",
       "      <th>9</th>\n",
       "      <td>7574</td>\n",
       "      <td>220</td>\n",
       "    </tr>\n",
       "    <tr>\n",
       "      <th>10</th>\n",
       "      <td>9117</td>\n",
       "      <td>124</td>\n",
       "    </tr>\n",
       "    <tr>\n",
       "      <th>11</th>\n",
       "      <td>10102</td>\n",
       "      <td>255</td>\n",
       "    </tr>\n",
       "    <tr>\n",
       "      <th>12</th>\n",
       "      <td>10395</td>\n",
       "      <td>429</td>\n",
       "    </tr>\n",
       "    <tr>\n",
       "      <th>13</th>\n",
       "      <td>10095</td>\n",
       "      <td>528</td>\n",
       "    </tr>\n",
       "    <tr>\n",
       "      <th>14</th>\n",
       "      <td>10584</td>\n",
       "      <td>597</td>\n",
       "    </tr>\n",
       "    <tr>\n",
       "      <th>15</th>\n",
       "      <td>10513</td>\n",
       "      <td>581</td>\n",
       "    </tr>\n",
       "    <tr>\n",
       "      <th>16</th>\n",
       "      <td>9823</td>\n",
       "      <td>621</td>\n",
       "    </tr>\n",
       "    <tr>\n",
       "      <th>17</th>\n",
       "      <td>9351</td>\n",
       "      <td>202</td>\n",
       "    </tr>\n",
       "    <tr>\n",
       "      <th>18</th>\n",
       "      <td>8979</td>\n",
       "      <td>4816</td>\n",
       "    </tr>\n",
       "    <tr>\n",
       "      <th>19</th>\n",
       "      <td>8302</td>\n",
       "      <td>6550</td>\n",
       "    </tr>\n",
       "    <tr>\n",
       "      <th>20</th>\n",
       "      <td>7758</td>\n",
       "      <td>36</td>\n",
       "    </tr>\n",
       "    <tr>\n",
       "      <th>21</th>\n",
       "      <td>7019</td>\n",
       "      <td>6</td>\n",
       "    </tr>\n",
       "    <tr>\n",
       "      <th>22</th>\n",
       "      <td>7342</td>\n",
       "      <td>22</td>\n",
       "    </tr>\n",
       "    <tr>\n",
       "      <th>23</th>\n",
       "      <td>7786</td>\n",
       "      <td>21</td>\n",
       "    </tr>\n",
       "  </tbody>\n",
       "</table>\n",
       "</div>"
      ],
      "text/plain": [
       "        4xx   5xx\n",
       "hour             \n",
       "0      6021    17\n",
       "1      4215    10\n",
       "2      2394     8\n",
       "3      1388    26\n",
       "4      1871     3\n",
       "5      1683    10\n",
       "6      2036     3\n",
       "7      2923     6\n",
       "8      4985    76\n",
       "9      7574   220\n",
       "10     9117   124\n",
       "11    10102   255\n",
       "12    10395   429\n",
       "13    10095   528\n",
       "14    10584   597\n",
       "15    10513   581\n",
       "16     9823   621\n",
       "17     9351   202\n",
       "18     8979  4816\n",
       "19     8302  6550\n",
       "20     7758    36\n",
       "21     7019     6\n",
       "22     7342    22\n",
       "23     7786    21"
      ]
     },
     "execution_count": 7,
     "metadata": {},
     "output_type": "execute_result"
    }
   ],
   "source": [
    "def hourly_errors(logs_df):\n",
    "    # TODO: Implement this function that takes a pd.DataFrame\n",
    "    # and returns a 8x2 DataFrame described above (Duration is index)\n",
    "    \n",
    "    # Note: Remember that in this assignment(even in your Data-Science life!) you are not\n",
    "    # allowed to use loops iterating over a DataFrame.\n",
    "    \n",
    "    errors_freq_df = pd.DataFrame()\n",
    "    ############# Your code here ############\n",
    "    errors_freq_df = logs_df[{'datetime' , 'status'}]\n",
    "    errors_freq_df['datetime'] = errors_freq_df['datetime'].transform(lambda x:x.hour)\n",
    "    errors_freq_df = errors_freq_df.set_index('datetime')\n",
    "    status =  errors_freq_df.transform(lambda num:num//100==5).groupby('datetime').agg('sum')\n",
    "    errors_freq_df = errors_freq_df.transform(lambda num:num//100==4).groupby('datetime').agg('sum').reset_index().rename(columns={'status':'4xx','datetime':'hour'})\n",
    "    errors_freq_df['5xx'] = status['status']\n",
    "    errors_freq_df.set_index('hour' , inplace = True)\n",
    "    #########################################\n",
    "    return errors_freq_df\n",
    "\n",
    "errors_freq_df = hourly_errors(logs_df)\n",
    "assert errors_freq_df.shape == (24, 2)\n",
    "errors_freq_df"
   ]
  },
  {
   "cell_type": "markdown",
   "id": "cooperative-matrix",
   "metadata": {
    "id": "cooperative-matrix"
   },
   "source": [
    "## Q5. How can user agents help us to recognize bots readily? (10 points)\n",
    "\n",
    "What is user agent? Please read [this](https://en.wikipedia.org/wiki/User_agent) in case you don't know!\n",
    "\n",
    "There is a useful library called `user_agents`. It is a Python library that provides an easy way to identify/detect devices like mobile phones, tablets and their capabilities by parsing (browser/HTTP) user agent strings."
   ]
  },
  {
   "cell_type": "code",
   "execution_count": 1,
   "id": "maritime-channel",
   "metadata": {
    "id": "maritime-channel"
   },
   "outputs": [
    {
     "name": "stdout",
     "output_type": "stream",
     "text": [
      "Requirement already satisfied: pyyaml in c:\\programdata\\anaconda3\\lib\\site-packages (6.0)\n",
      "Collecting ua-parser\n",
      "  Downloading ua_parser-0.10.0-py2.py3-none-any.whl (35 kB)\n",
      "Collecting user-agents\n",
      "  Downloading user_agents-2.2.0-py3-none-any.whl (9.6 kB)\n",
      "Installing collected packages: ua-parser, user-agents\n",
      "Successfully installed ua-parser-0.10.0 user-agents-2.2.0\n",
      "Note: you may need to restart the kernel to use updated packages.\n"
     ]
    }
   ],
   "source": [
    "# Firstly, lets install it:\n",
    "%pip install pyyaml ua-parser user-agents"
   ]
  },
  {
   "cell_type": "markdown",
   "id": "funded-alexandria",
   "metadata": {
    "id": "funded-alexandria"
   },
   "source": [
    "Please visit it's [documentation](https://pypi.org/project/user-agents/) page.\n",
    "\n",
    "In this part, we will create a DataFrame which has these columns **per each session** (we assume that each rows with same IPs and user agents are within a same session). You have to group the `logs_df` DataFrame by their `client` and `user_agent` columns.\n",
    "\n",
    "This DataFrame columns are listed below:\n",
    "\n",
    " - Browser family: *string*\n",
    " - OS family: *is string*\n",
    " - Is_bot: *boolean* \n",
    " - Is_pc: *boolean* \n"
   ]
  },
  {
   "cell_type": "code",
   "execution_count": 1,
   "id": "widespread-package",
   "metadata": {
    "id": "widespread-package"
   },
   "outputs": [
    {
     "name": "stderr",
     "output_type": "stream",
     "text": [
      "C:\\Users\\asus\\AppData\\Local\\Temp/ipykernel_8524/1159164792.py:17: SettingWithCopyWarning: \n",
      "A value is trying to be set on a copy of a slice from a DataFrame.\n",
      "Try using .loc[row_indexer,col_indexer] = value instead\n",
      "\n",
      "See the caveats in the documentation: https://pandas.pydata.org/pandas-docs/stable/user_guide/indexing.html#returning-a-view-versus-a-copy\n",
      "  x['user_agent'] = x['user_agent'].transform(lambda user_agent:parse(user_agent))\n",
      "C:\\Users\\asus\\AppData\\Local\\Temp/ipykernel_8524/1159164792.py:18: SettingWithCopyWarning: \n",
      "A value is trying to be set on a copy of a slice from a DataFrame.\n",
      "Try using .loc[row_indexer,col_indexer] = value instead\n",
      "\n",
      "See the caveats in the documentation: https://pandas.pydata.org/pandas-docs/stable/user_guide/indexing.html#returning-a-view-versus-a-copy\n",
      "  user_agent_details_df['Browser_family'] = x['user_agent'].transform(lambda user_agent:user_agent.browser.family)\n",
      "C:\\Users\\asus\\AppData\\Local\\Temp/ipykernel_8524/1159164792.py:19: SettingWithCopyWarning: \n",
      "A value is trying to be set on a copy of a slice from a DataFrame.\n",
      "Try using .loc[row_indexer,col_indexer] = value instead\n",
      "\n",
      "See the caveats in the documentation: https://pandas.pydata.org/pandas-docs/stable/user_guide/indexing.html#returning-a-view-versus-a-copy\n",
      "  user_agent_details_df['OS_family'] = x['user_agent'].transform(lambda user_agent:user_agent.os.family)\n",
      "C:\\Users\\asus\\AppData\\Local\\Temp/ipykernel_8524/1159164792.py:20: SettingWithCopyWarning: \n",
      "A value is trying to be set on a copy of a slice from a DataFrame.\n",
      "Try using .loc[row_indexer,col_indexer] = value instead\n",
      "\n",
      "See the caveats in the documentation: https://pandas.pydata.org/pandas-docs/stable/user_guide/indexing.html#returning-a-view-versus-a-copy\n",
      "  user_agent_details_df['Is_bot'] = x['user_agent'].transform(lambda user_agent:user_agent.is_bot)\n",
      "C:\\Users\\asus\\AppData\\Local\\Temp/ipykernel_8524/1159164792.py:21: SettingWithCopyWarning: \n",
      "A value is trying to be set on a copy of a slice from a DataFrame.\n",
      "Try using .loc[row_indexer,col_indexer] = value instead\n",
      "\n",
      "See the caveats in the documentation: https://pandas.pydata.org/pandas-docs/stable/user_guide/indexing.html#returning-a-view-versus-a-copy\n",
      "  user_agent_details_df['Is_pc'] = x['user_agent'].transform(lambda user_agent:user_agent.is_pc)\n"
     ]
    },
    {
     "data": {
      "text/html": [
       "<div>\n",
       "<style scoped>\n",
       "    .dataframe tbody tr th:only-of-type {\n",
       "        vertical-align: middle;\n",
       "    }\n",
       "\n",
       "    .dataframe tbody tr th {\n",
       "        vertical-align: top;\n",
       "    }\n",
       "\n",
       "    .dataframe thead th {\n",
       "        text-align: right;\n",
       "    }\n",
       "</style>\n",
       "<table border=\"1\" class=\"dataframe\">\n",
       "  <thead>\n",
       "    <tr style=\"text-align: right;\">\n",
       "      <th></th>\n",
       "      <th></th>\n",
       "      <th>Browser_family</th>\n",
       "      <th>OS_family</th>\n",
       "      <th>Is_bot</th>\n",
       "      <th>Is_pc</th>\n",
       "    </tr>\n",
       "    <tr>\n",
       "      <th>client</th>\n",
       "      <th>user_agent</th>\n",
       "      <th></th>\n",
       "      <th></th>\n",
       "      <th></th>\n",
       "      <th></th>\n",
       "    </tr>\n",
       "  </thead>\n",
       "  <tbody>\n",
       "    <tr>\n",
       "      <th rowspan=\"5\" valign=\"top\">1.132.107.223</th>\n",
       "      <th>Samsung SM-G965F / Android 8.0.0 / Samsung Internet 8.2</th>\n",
       "      <td>Samsung Internet</td>\n",
       "      <td>Android</td>\n",
       "      <td>False</td>\n",
       "      <td>False</td>\n",
       "    </tr>\n",
       "    <tr>\n",
       "      <th>Samsung SM-G965F / Android 8.0.0 / Samsung Internet 8.2</th>\n",
       "      <td>Samsung Internet</td>\n",
       "      <td>Android</td>\n",
       "      <td>False</td>\n",
       "      <td>False</td>\n",
       "    </tr>\n",
       "    <tr>\n",
       "      <th>Samsung SM-G965F / Android 8.0.0 / Samsung Internet 8.2</th>\n",
       "      <td>Samsung Internet</td>\n",
       "      <td>Android</td>\n",
       "      <td>False</td>\n",
       "      <td>False</td>\n",
       "    </tr>\n",
       "    <tr>\n",
       "      <th>Samsung SM-G965F / Android 8.0.0 / Samsung Internet 8.2</th>\n",
       "      <td>Samsung Internet</td>\n",
       "      <td>Android</td>\n",
       "      <td>False</td>\n",
       "      <td>False</td>\n",
       "    </tr>\n",
       "    <tr>\n",
       "      <th>Samsung SM-G965F / Android 8.0.0 / Samsung Internet 8.2</th>\n",
       "      <td>Samsung Internet</td>\n",
       "      <td>Android</td>\n",
       "      <td>False</td>\n",
       "      <td>False</td>\n",
       "    </tr>\n",
       "    <tr>\n",
       "      <th>...</th>\n",
       "      <th>...</th>\n",
       "      <td>...</td>\n",
       "      <td>...</td>\n",
       "      <td>...</td>\n",
       "      <td>...</td>\n",
       "    </tr>\n",
       "    <tr>\n",
       "      <th rowspan=\"5\" valign=\"top\">99.99.188.195</th>\n",
       "      <th>iPhone / iOS 12.1 / Chrome Mobile iOS 71.0.3578</th>\n",
       "      <td>Chrome Mobile iOS</td>\n",
       "      <td>iOS</td>\n",
       "      <td>False</td>\n",
       "      <td>False</td>\n",
       "    </tr>\n",
       "    <tr>\n",
       "      <th>iPhone / iOS 12.1 / Chrome Mobile iOS 71.0.3578</th>\n",
       "      <td>Chrome Mobile iOS</td>\n",
       "      <td>iOS</td>\n",
       "      <td>False</td>\n",
       "      <td>False</td>\n",
       "    </tr>\n",
       "    <tr>\n",
       "      <th>iPhone / iOS 12.1 / Chrome Mobile iOS 71.0.3578</th>\n",
       "      <td>Chrome Mobile iOS</td>\n",
       "      <td>iOS</td>\n",
       "      <td>False</td>\n",
       "      <td>False</td>\n",
       "    </tr>\n",
       "    <tr>\n",
       "      <th>iPhone / iOS 12.1 / Chrome Mobile iOS 71.0.3578</th>\n",
       "      <td>Chrome Mobile iOS</td>\n",
       "      <td>iOS</td>\n",
       "      <td>False</td>\n",
       "      <td>False</td>\n",
       "    </tr>\n",
       "    <tr>\n",
       "      <th>iPhone / iOS 12.1 / Chrome Mobile iOS 71.0.3578</th>\n",
       "      <td>Chrome Mobile iOS</td>\n",
       "      <td>iOS</td>\n",
       "      <td>False</td>\n",
       "      <td>False</td>\n",
       "    </tr>\n",
       "  </tbody>\n",
       "</table>\n",
       "<p>10364865 rows × 4 columns</p>\n",
       "</div>"
      ],
      "text/plain": [
       "                                                                     Browser_family  \\\n",
       "client        user_agent                                                              \n",
       "1.132.107.223 Samsung SM-G965F / Android 8.0.0 / Samsung Inte...   Samsung Internet   \n",
       "              Samsung SM-G965F / Android 8.0.0 / Samsung Inte...   Samsung Internet   \n",
       "              Samsung SM-G965F / Android 8.0.0 / Samsung Inte...   Samsung Internet   \n",
       "              Samsung SM-G965F / Android 8.0.0 / Samsung Inte...   Samsung Internet   \n",
       "              Samsung SM-G965F / Android 8.0.0 / Samsung Inte...   Samsung Internet   \n",
       "...                                                                             ...   \n",
       "99.99.188.195 iPhone / iOS 12.1 / Chrome Mobile iOS 71.0.3578     Chrome Mobile iOS   \n",
       "              iPhone / iOS 12.1 / Chrome Mobile iOS 71.0.3578     Chrome Mobile iOS   \n",
       "              iPhone / iOS 12.1 / Chrome Mobile iOS 71.0.3578     Chrome Mobile iOS   \n",
       "              iPhone / iOS 12.1 / Chrome Mobile iOS 71.0.3578     Chrome Mobile iOS   \n",
       "              iPhone / iOS 12.1 / Chrome Mobile iOS 71.0.3578     Chrome Mobile iOS   \n",
       "\n",
       "                                                                 OS_family  \\\n",
       "client        user_agent                                                     \n",
       "1.132.107.223 Samsung SM-G965F / Android 8.0.0 / Samsung Inte...   Android   \n",
       "              Samsung SM-G965F / Android 8.0.0 / Samsung Inte...   Android   \n",
       "              Samsung SM-G965F / Android 8.0.0 / Samsung Inte...   Android   \n",
       "              Samsung SM-G965F / Android 8.0.0 / Samsung Inte...   Android   \n",
       "              Samsung SM-G965F / Android 8.0.0 / Samsung Inte...   Android   \n",
       "...                                                                    ...   \n",
       "99.99.188.195 iPhone / iOS 12.1 / Chrome Mobile iOS 71.0.3578          iOS   \n",
       "              iPhone / iOS 12.1 / Chrome Mobile iOS 71.0.3578          iOS   \n",
       "              iPhone / iOS 12.1 / Chrome Mobile iOS 71.0.3578          iOS   \n",
       "              iPhone / iOS 12.1 / Chrome Mobile iOS 71.0.3578          iOS   \n",
       "              iPhone / iOS 12.1 / Chrome Mobile iOS 71.0.3578          iOS   \n",
       "\n",
       "                                                                 Is_bot  Is_pc  \n",
       "client        user_agent                                                        \n",
       "1.132.107.223 Samsung SM-G965F / Android 8.0.0 / Samsung Inte...  False  False  \n",
       "              Samsung SM-G965F / Android 8.0.0 / Samsung Inte...  False  False  \n",
       "              Samsung SM-G965F / Android 8.0.0 / Samsung Inte...  False  False  \n",
       "              Samsung SM-G965F / Android 8.0.0 / Samsung Inte...  False  False  \n",
       "              Samsung SM-G965F / Android 8.0.0 / Samsung Inte...  False  False  \n",
       "...                                                                 ...    ...  \n",
       "99.99.188.195 iPhone / iOS 12.1 / Chrome Mobile iOS 71.0.3578     False  False  \n",
       "              iPhone / iOS 12.1 / Chrome Mobile iOS 71.0.3578     False  False  \n",
       "              iPhone / iOS 12.1 / Chrome Mobile iOS 71.0.3578     False  False  \n",
       "              iPhone / iOS 12.1 / Chrome Mobile iOS 71.0.3578     False  False  \n",
       "              iPhone / iOS 12.1 / Chrome Mobile iOS 71.0.3578     False  False  \n",
       "\n",
       "[10364865 rows x 4 columns]"
      ]
     },
     "execution_count": 1,
     "metadata": {},
     "output_type": "execute_result"
    }
   ],
   "source": [
    "from user_agents import parse \n",
    "def user_agent_details(logs_df):\n",
    "    # TODO: Implement this function that takes a pd.DataFrame\n",
    "    # and return a # of sessions x 4 DataFrame. \n",
    "    \n",
    "    # Note: you must bind the user_agent functions to your DataFrame rows, hence you cannot use loops.\n",
    "    \n",
    "    user_agent_details_df = pd.DataFrame()\n",
    "    \n",
    "    ############# Your code here ############\n",
    "    x = logs_df[{'client','user_agent'}]\n",
    "    user_agent_details_df = x\n",
    "    x['user_agent'] = x['user_agent'].transform(lambda user_agent:parse(user_agent))\n",
    "    user_agent_details_df['Browser_family'] = x['user_agent'].transform(lambda user_agent:user_agent.browser.family)\n",
    "    user_agent_details_df['OS_family'] = x['user_agent'].transform(lambda user_agent:user_agent.os.family)\n",
    "    user_agent_details_df['Is_bot'] = x['user_agent'].transform(lambda user_agent:user_agent.is_bot)\n",
    "    user_agent_details_df['Is_pc'] = x['user_agent'].transform(lambda user_agent:user_agent.is_pc)\n",
    "    user_agent_details_df = user_agent_details_df.set_index(['client','user_agent'])\n",
    "    user_agent_details_df = user_agent_details_df.sort_index()\n",
    "    #user_agent_details_df = user_agent_details_df.drop_duplicates()\n",
    "    #########################################\n",
    "    \n",
    "    return user_agent_details_df\n",
    "\n",
    "user_agent_details_df = user_agent_details(logs_df)\n",
    "user_agent_details_df"
   ]
  },
  {
   "cell_type": "markdown",
   "id": "worldwide-removal",
   "metadata": {
    "id": "worldwide-removal"
   },
   "source": [
    "## Q6. Take a deeper look! (10 points)\n",
    "\n",
    "Extract all the rows of the table with:\n",
    "\n",
    "    - client = '66.249.66.194'\n",
    "    - user_agent = 'Mozilla/5.0 (compatible; Googlebot/2.1; +http://www.google.com/bot.html)'\n",
    "    \n",
    "Then answer the following questions:\n",
    "\n",
    "   1. What percentage of the requests of these rows have `size = 0`?\n",
    "   2. Take a look at the endpoints of the requests having `size = 0`. What substring do they have in common mostly?\n",
    "   \n",
    "Then fill the function below to plot a histogram for sizes of the requests."
   ]
  },
  {
   "cell_type": "code",
   "execution_count": 17,
   "id": "pediatric-elimination",
   "metadata": {
    "id": "pediatric-elimination",
    "scrolled": true
   },
   "outputs": [
    {
     "name": "stdout",
     "output_type": "stream",
     "text": [
      "percentage of size zeros : 28.120253378188327\n"
     ]
    },
    {
     "data": {
      "text/plain": [
       "1615    /filter/p41%2Ct60%2Cstexists%2Cb2%2C5275%7C%D8...\n",
       "4932                           /m/filter?f=b74%2Cb697&o=b\n",
       "4984                               /filter/b74%2Cb697?o=b\n",
       "6292                         /m/event/Nilper-Edari?page=1\n",
       "7573    /filter/p12%2Cb36%2C618%7C2000-2400%20%2C618%7...\n",
       "Name: request, dtype: object"
      ]
     },
     "execution_count": 17,
     "metadata": {},
     "output_type": "execute_result"
    },
    {
     "data": {
      "image/png": "[encoded data removed]",
      "text/plain": [
       "<Figure size 1440x432 with 1 Axes>"
      ]
     },
     "metadata": {
      "needs_background": "light"
     },
     "output_type": "display_data"
    }
   ],
   "source": [
    "client = '66.249.66.194'\n",
    "user_agent = 'Mozilla/5.0 (compatible; Googlebot/2.1; +http://www.google.com/bot.html)'\n",
    "def plot_histogram(sample_df, n_bins=10):\n",
    "    # TODO: Implement this function that takes a pd.DataFrame\n",
    "    # and plot a histogram with n_bins bins.\n",
    "    hist = sample_df['size'].plot.hist(bins = n_bins , figsize = (20,6))\n",
    "    hist.set_xlabel(\"size\")\n",
    "    ############# Your code here ############\n",
    "\n",
    "    #########################################\n",
    "\n",
    "sample_df = logs_df[(logs_df['client'] == client) & (logs_df['user_agent'] == user_agent)]\n",
    "t1 = sample_df['size'].count()\n",
    "t2 = sample_df[sample_df['size']==0]['size'].count()\n",
    "print('percentage of size zeros : {}'.format(t2/t1*100))\n",
    "plot_histogram(sample_df, n_bins=10)\n",
    "sample_df[sample_df['size']==0]['request'].head()\n",
    "#it mostly has filter in it"
   ]
  },
  {
   "cell_type": "markdown",
   "id": "imported-radar",
   "metadata": {
    "id": "imported-radar"
   },
   "source": [
    "# 3. Feature Engineering\n",
    "\n",
    "We now have some insights of the dataset. In this part we are going to create some new features to help us better classifying **web crawlers/bots** and normal clients.\n",
    "\n",
    "In over the last decade, there have been numerous studies that have tried to classify web robots from web server access logs using Machine Learning approaches. But is it really possible to classify each requests individually? Nowdays, attackers and web crawler developers, implement bots which act broadly similar to humans! Therefore, it is not practical to classify the requests into crawlers and normal clients just based on one request. Here sessions just come in!\n",
    "\n",
    "**Session definition**: A session is a group of user interactions(requests) with your website that take place within a given time frame. For simplicity, we assume that each session only corresponds to one client(IP) and we also ignore the time frame. \n",
    "\n",
    "Hence you can create the session DataFrame with grouping the logs DataFrame by `client` and `user_agent` columns."
   ]
  },
  {
   "cell_type": "markdown",
   "id": "faced-willow",
   "metadata": {
    "id": "faced-willow"
   },
   "source": [
    "## Q7. Write 10 features of web crawlers' access logs within a session which deviate them from normal client ones? Explain the intuition behind each one briefly? (5 points)\n",
    "\n",
    "You are free to search on the internet and read previous studies in this area but **you must mention your sources in your report**. \n",
    "\n",
    "This paper can be helpful: *Detecting Web Crawlers from Web Server Access Logs with Data Mining*. [[PDF]](https://www.eecs.yorku.ca/course_archive/2019-20/F/6412/project/samples/Dusan-report.pdf)"
   ]
  },
  {
   "cell_type": "markdown",
   "id": "alive-zimbabwe",
   "metadata": {
    "id": "alive-zimbabwe"
   },
   "source": [
    "## Q8. Create the session DataFrame (10 points)\n",
    "\n",
    "Fill the function below to create the session DataFrame based on grouping the `logs_df` by `client` and `user_agent` columns. This DataFrame must contain one column which indicates the number of requests for each session named `requests_count`. Also **sort** the final DataFrame based on `requests_count` in **descending** order.\n",
    "\n",
    "\n",
    "What can we imply from the user agents of the sessions with most request frequency? Are they normal clients? Write your thoughts in the report file."
   ]
  },
  {
   "cell_type": "code",
   "execution_count": 1,
   "id": "f5762224",
   "metadata": {},
   "outputs": [],
   "source": [
    "import numpy as np\n",
    "import pandas as pd\n",
    "import matplotlib.pyplot as plt\n",
    "logs_df = pd.read_parquet('logs_df.parquet')"
   ]
  },
  {
   "cell_type": "code",
   "execution_count": 2,
   "id": "reliable-shopping",
   "metadata": {
    "id": "reliable-shopping",
    "scrolled": true
   },
   "outputs": [],
   "source": [
    "# change the data type of the client, user_agent, referer columns.\n",
    "# It may take 1-2 minutes to execute.\n",
    "\n",
    "logs_df = logs_df.sample(frac = 0.6 , replace = True, random_state = 1)\n",
    "logs_df['client'] = logs_df['client'].astype(str)\n",
    "logs_df['user_agent'] = logs_df['user_agent'].astype(str)"
   ]
  },
  {
   "cell_type": "code",
   "execution_count": 6,
   "id": "injured-saver",
   "metadata": {
    "id": "injured-saver"
   },
   "outputs": [
    {
     "data": {
      "text/html": [
       "<div>\n",
       "<style scoped>\n",
       "    .dataframe tbody tr th:only-of-type {\n",
       "        vertical-align: middle;\n",
       "    }\n",
       "\n",
       "    .dataframe tbody tr th {\n",
       "        vertical-align: top;\n",
       "    }\n",
       "\n",
       "    .dataframe thead th {\n",
       "        text-align: right;\n",
       "    }\n",
       "</style>\n",
       "<table border=\"1\" class=\"dataframe\">\n",
       "  <thead>\n",
       "    <tr style=\"text-align: right;\">\n",
       "      <th></th>\n",
       "      <th></th>\n",
       "      <th>requests_count</th>\n",
       "    </tr>\n",
       "    <tr>\n",
       "      <th>client</th>\n",
       "      <th>user_agent</th>\n",
       "      <th></th>\n",
       "    </tr>\n",
       "  </thead>\n",
       "  <tbody>\n",
       "    <tr>\n",
       "      <th>66.249.66.194</th>\n",
       "      <th>Mozilla/5.0 (Linux; Android 6.0.1; Nexus 5X Build/MMB29P) AppleWebKit/537.36 (KHTML, like Gecko) Chrome/41.0.2272.96 Mobile Safari/537.36 (compatible; Googlebot/2.1; +http://www.google.com/bot.html)</th>\n",
       "      <td>155139</td>\n",
       "    </tr>\n",
       "    <tr>\n",
       "      <th rowspan=\"2\" valign=\"top\">66.249.66.91</th>\n",
       "      <th>Mozilla/5.0 (Linux; Android 6.0.1; Nexus 5X Build/MMB29P) AppleWebKit/537.36 (KHTML, like Gecko) Chrome/41.0.2272.96 Mobile Safari/537.36 (compatible; Googlebot/2.1; +http://www.google.com/bot.html)</th>\n",
       "      <td>75600</td>\n",
       "    </tr>\n",
       "    <tr>\n",
       "      <th>Googlebot-Image/1.0</th>\n",
       "      <td>65272</td>\n",
       "    </tr>\n",
       "    <tr>\n",
       "      <th>66.249.66.194</th>\n",
       "      <th>Mozilla/5.0 (compatible; Googlebot/2.1; +http://www.google.com/bot.html)</th>\n",
       "      <td>53339</td>\n",
       "    </tr>\n",
       "    <tr>\n",
       "      <th>66.249.66.91</th>\n",
       "      <th>Mozilla/5.0 (compatible; Googlebot/2.1; +http://www.google.com/bot.html)</th>\n",
       "      <td>47535</td>\n",
       "    </tr>\n",
       "    <tr>\n",
       "      <th>...</th>\n",
       "      <th>...</th>\n",
       "      <td>...</td>\n",
       "    </tr>\n",
       "    <tr>\n",
       "      <th>31.14.159.100</th>\n",
       "      <th>Mozilla/5.0 (Windows NT 6.1; WOW64; rv:50.0) Gecko/20100101 Firefox/50.0</th>\n",
       "      <td>1</td>\n",
       "    </tr>\n",
       "    <tr>\n",
       "      <th>31.14.159.97</th>\n",
       "      <th>Mozilla/5.0 (Linux; Android 7.0; Lenovo TB-7304F Build/NRD90M) AppleWebKit/537.36 (KHTML, like Gecko) Chrome/58.0.3029.83 Safari/537.36</th>\n",
       "      <td>1</td>\n",
       "    </tr>\n",
       "    <tr>\n",
       "      <th>5.216.180.125</th>\n",
       "      <th>Dalvik/2.1.0 (Linux; U; Android 6.0.1; SM-G610F Build/MMB29K)</th>\n",
       "      <td>1</td>\n",
       "    </tr>\n",
       "    <tr>\n",
       "      <th>31.14.80.105</th>\n",
       "      <th>Mozilla/5.0 (Linux; Android 4.1.2; GT-I8552) AppleWebKit/537.36 (KHTML, like Gecko) Chrome/71.0.3578.99 Mobile Safari/537.36</th>\n",
       "      <td>1</td>\n",
       "    </tr>\n",
       "    <tr>\n",
       "      <th>5.120.61.203</th>\n",
       "      <th>Dalvik/2.1.0 (Linux; U; Android 7.0; SM-C5000 Build/NRD90M)</th>\n",
       "      <td>1</td>\n",
       "    </tr>\n",
       "  </tbody>\n",
       "</table>\n",
       "<p>220076 rows × 1 columns</p>\n",
       "</div>"
      ],
      "text/plain": [
       "                                                                  requests_count\n",
       "client        user_agent                                                        \n",
       "66.249.66.194 Mozilla/5.0 (Linux; Android 6.0.1; Nexus 5X Bui...          155139\n",
       "66.249.66.91  Mozilla/5.0 (Linux; Android 6.0.1; Nexus 5X Bui...           75600\n",
       "              Googlebot-Image/1.0                                          65272\n",
       "66.249.66.194 Mozilla/5.0 (compatible; Googlebot/2.1; +http:/...           53339\n",
       "66.249.66.91  Mozilla/5.0 (compatible; Googlebot/2.1; +http:/...           47535\n",
       "...                                                                          ...\n",
       "31.14.159.100 Mozilla/5.0 (Windows NT 6.1; WOW64; rv:50.0) Ge...               1\n",
       "31.14.159.97  Mozilla/5.0 (Linux; Android 7.0; Lenovo TB-7304...               1\n",
       "5.216.180.125 Dalvik/2.1.0 (Linux; U; Android 6.0.1; SM-G610F...               1\n",
       "31.14.80.105  Mozilla/5.0 (Linux; Android 4.1.2; GT-I8552) Ap...               1\n",
       "5.120.61.203  Dalvik/2.1.0 (Linux; U; Android 7.0; SM-C5000 B...               1\n",
       "\n",
       "[220076 rows x 1 columns]"
      ]
     },
     "execution_count": 6,
     "metadata": {},
     "output_type": "execute_result"
    }
   ],
   "source": [
    "def create_session_df(logs_df):\n",
    "    # TODO: Implement this function that takes a pd.DataFrame\n",
    "    # and return the session DataFrame\n",
    "    \n",
    "    session_df = pd.DataFrame()\n",
    "    \n",
    "    ############# Your code here ############\n",
    "    session_df = pd.DataFrame(logs_df.groupby(['client', 'user_agent'] , observed = True).size(), columns=['requests_count'])\n",
    "    #########################################\n",
    "    \n",
    "    return session_df.sort_values('requests_count', ascending=False)\n",
    "\n",
    "session_df = create_session_df(logs_df)\n",
    "#assert session_df.shape == (295087, 1)\n",
    "session_df"
   ]
  },
  {
   "cell_type": "markdown",
   "id": "satellite-murder",
   "metadata": {
    "id": "satellite-murder"
   },
   "source": [
    "## Q9. Design other useful features per session (20 points)\n",
    "\n",
    "In this part you will add more feature to your session DataFrame. Your final session DataFrame must include these features:\n",
    "\n",
    " 1. **requests_count**: Number of HTTP request per session (You implemented this one in the previous question.\n",
    ")\n",
    " 2. **STD of endpoint lengths**: Each endpoint has a length if we split the parts of it by \"/\" delimiter. Computer the STD of endpoint lenght per session.\n",
    " 3. **Percentage of 4xx status codes**: Its clear!\n",
    " 4. **Percentage of HTTP HEAD requests**: HEAD is one of the HTTP methods similar to GET, POST, PUT and Delete.\n",
    " 5. **Average of the `size` column**: What insights does it give us? What do YOU think?\n",
    " 6. **Robots.txt requests**: Indicates a web crawler attempt to access web pages.\n",
    " 7. **Average of time between requests per session**: Set 0 for session containing only 1 request.\n",
    " 8. **Percentage of requests with unassigned referrers**: Percentage of blank or unassigned referrer fields set by a user in a single session."
   ]
  },
  {
   "cell_type": "code",
   "execution_count": 1,
   "id": "8401d663",
   "metadata": {},
   "outputs": [],
   "source": [
    "import numpy as np\n",
    "import pandas as pd\n",
    "import matplotlib.pyplot as plt\n",
    "logs_df = pd.read_parquet('logs_df.parquet')\n",
    "logs_df = logs_df.sample(frac = 0.6 , replace = True, random_state = 1)\n",
    "logs_df['client'] = logs_df['client'].astype(str)\n",
    "logs_df['user_agent'] = logs_df['user_agent'].astype(str)"
   ]
  },
  {
   "cell_type": "code",
   "execution_count": 2,
   "id": "tested-disney",
   "metadata": {
    "id": "tested-disney"
   },
   "outputs": [
    {
     "name": "stderr",
     "output_type": "stream",
     "text": [
      "C:\\Users\\asus\\AppData\\Local\\Temp/ipykernel_12024/984333734.py:21: SettingWithCopyWarning: \n",
      "A value is trying to be set on a copy of a slice from a DataFrame.\n",
      "Try using .loc[row_indexer,col_indexer] = value instead\n",
      "\n",
      "See the caveats in the documentation: https://pandas.pydata.org/pandas-docs/stable/user_guide/indexing.html#returning-a-view-versus-a-copy\n",
      "  x['request'] = x['request'].transform(lambda x:len(x.split('/')))\n",
      "C:\\Users\\asus\\AppData\\Local\\Temp/ipykernel_12024/984333734.py:25: SettingWithCopyWarning: \n",
      "A value is trying to be set on a copy of a slice from a DataFrame.\n",
      "Try using .loc[row_indexer,col_indexer] = value instead\n",
      "\n",
      "See the caveats in the documentation: https://pandas.pydata.org/pandas-docs/stable/user_guide/indexing.html#returning-a-view-versus-a-copy\n",
      "  x['status'] = x['status'].transform(lambda x:x // 100 == 4)\n",
      "C:\\Users\\asus\\AppData\\Local\\Temp/ipykernel_12024/984333734.py:29: SettingWithCopyWarning: \n",
      "A value is trying to be set on a copy of a slice from a DataFrame.\n",
      "Try using .loc[row_indexer,col_indexer] = value instead\n",
      "\n",
      "See the caveats in the documentation: https://pandas.pydata.org/pandas-docs/stable/user_guide/indexing.html#returning-a-view-versus-a-copy\n",
      "  x['method'] = x['method'].transform(lambda x:x=='HEAD')\n",
      "C:\\Users\\asus\\AppData\\Local\\Temp/ipykernel_12024/984333734.py:36: SettingWithCopyWarning: \n",
      "A value is trying to be set on a copy of a slice from a DataFrame.\n",
      "Try using .loc[row_indexer,col_indexer] = value instead\n",
      "\n",
      "See the caveats in the documentation: https://pandas.pydata.org/pandas-docs/stable/user_guide/indexing.html#returning-a-view-versus-a-copy\n",
      "  x['request'] = x['request'].transform(lambda x:x.str.contains('Robots.txt'))\n",
      "C:\\Users\\asus\\AppData\\Local\\Temp/ipykernel_12024/984333734.py:40: SettingWithCopyWarning: \n",
      "A value is trying to be set on a copy of a slice from a DataFrame.\n",
      "Try using .loc[row_indexer,col_indexer] = value instead\n",
      "\n",
      "See the caveats in the documentation: https://pandas.pydata.org/pandas-docs/stable/user_guide/indexing.html#returning-a-view-versus-a-copy\n",
      "  x['referer'] = x['referer'].transform(lambda x:len(x)==0 or pd.isna(x))\n"
     ]
    },
    {
     "data": {
      "text/html": [
       "<div>\n",
       "<style scoped>\n",
       "    .dataframe tbody tr th:only-of-type {\n",
       "        vertical-align: middle;\n",
       "    }\n",
       "\n",
       "    .dataframe tbody tr th {\n",
       "        vertical-align: top;\n",
       "    }\n",
       "\n",
       "    .dataframe thead th {\n",
       "        text-align: right;\n",
       "    }\n",
       "</style>\n",
       "<table border=\"1\" class=\"dataframe\">\n",
       "  <thead>\n",
       "    <tr style=\"text-align: right;\">\n",
       "      <th></th>\n",
       "      <th></th>\n",
       "      <th>requests_count</th>\n",
       "      <th>STD of endpoint lengths</th>\n",
       "      <th>Percentage of 4xx status codes</th>\n",
       "      <th>Percentage of HTTP HEAD requests</th>\n",
       "      <th>Average of the size column</th>\n",
       "      <th>Robots.txt requests</th>\n",
       "      <th>Percentage of requests with unassigned referrers</th>\n",
       "    </tr>\n",
       "    <tr>\n",
       "      <th>client</th>\n",
       "      <th>user_agent</th>\n",
       "      <th></th>\n",
       "      <th></th>\n",
       "      <th></th>\n",
       "      <th></th>\n",
       "      <th></th>\n",
       "      <th></th>\n",
       "      <th></th>\n",
       "    </tr>\n",
       "  </thead>\n",
       "  <tbody>\n",
       "    <tr>\n",
       "      <th>66.249.66.194</th>\n",
       "      <th>Mozilla/5.0 (Linux; Android 6.0.1; Nexus 5X Build/MMB29P) AppleWebKit/537.36 (KHTML, like Gecko) Chrome/41.0.2272.96 Mobile Safari/537.36 (compatible; Googlebot/2.1; +http://www.google.com/bot.html)</th>\n",
       "      <td>155139</td>\n",
       "      <td>0.591591</td>\n",
       "      <td>0.014748</td>\n",
       "      <td>0.0</td>\n",
       "      <td>19955.741973</td>\n",
       "      <td>0</td>\n",
       "      <td>0.0</td>\n",
       "    </tr>\n",
       "    <tr>\n",
       "      <th rowspan=\"2\" valign=\"top\">66.249.66.91</th>\n",
       "      <th>Mozilla/5.0 (Linux; Android 6.0.1; Nexus 5X Build/MMB29P) AppleWebKit/537.36 (KHTML, like Gecko) Chrome/41.0.2272.96 Mobile Safari/537.36 (compatible; Googlebot/2.1; +http://www.google.com/bot.html)</th>\n",
       "      <td>75600</td>\n",
       "      <td>0.219545</td>\n",
       "      <td>0.000159</td>\n",
       "      <td>0.0</td>\n",
       "      <td>2498.271190</td>\n",
       "      <td>0</td>\n",
       "      <td>0.0</td>\n",
       "    </tr>\n",
       "    <tr>\n",
       "      <th>Googlebot-Image/1.0</th>\n",
       "      <td>65272</td>\n",
       "      <td>0.504398</td>\n",
       "      <td>0.000000</td>\n",
       "      <td>0.0</td>\n",
       "      <td>3392.344865</td>\n",
       "      <td>0</td>\n",
       "      <td>0.0</td>\n",
       "    </tr>\n",
       "    <tr>\n",
       "      <th>66.249.66.194</th>\n",
       "      <th>Mozilla/5.0 (compatible; Googlebot/2.1; +http://www.google.com/bot.html)</th>\n",
       "      <td>53339</td>\n",
       "      <td>0.814394</td>\n",
       "      <td>0.079435</td>\n",
       "      <td>0.0</td>\n",
       "      <td>24904.015055</td>\n",
       "      <td>0</td>\n",
       "      <td>0.0</td>\n",
       "    </tr>\n",
       "    <tr>\n",
       "      <th>66.249.66.91</th>\n",
       "      <th>Mozilla/5.0 (compatible; Googlebot/2.1; +http://www.google.com/bot.html)</th>\n",
       "      <td>47535</td>\n",
       "      <td>0.444966</td>\n",
       "      <td>0.000968</td>\n",
       "      <td>0.0</td>\n",
       "      <td>39104.241885</td>\n",
       "      <td>0</td>\n",
       "      <td>0.0</td>\n",
       "    </tr>\n",
       "    <tr>\n",
       "      <th>...</th>\n",
       "      <th>...</th>\n",
       "      <td>...</td>\n",
       "      <td>...</td>\n",
       "      <td>...</td>\n",
       "      <td>...</td>\n",
       "      <td>...</td>\n",
       "      <td>...</td>\n",
       "      <td>...</td>\n",
       "    </tr>\n",
       "    <tr>\n",
       "      <th>31.14.159.100</th>\n",
       "      <th>Mozilla/5.0 (Windows NT 6.1; WOW64; rv:50.0) Gecko/20100101 Firefox/50.0</th>\n",
       "      <td>1</td>\n",
       "      <td>0.000000</td>\n",
       "      <td>0.000000</td>\n",
       "      <td>0.0</td>\n",
       "      <td>5773.000000</td>\n",
       "      <td>0</td>\n",
       "      <td>0.0</td>\n",
       "    </tr>\n",
       "    <tr>\n",
       "      <th>31.14.159.97</th>\n",
       "      <th>Mozilla/5.0 (Linux; Android 7.0; Lenovo TB-7304F Build/NRD90M) AppleWebKit/537.36 (KHTML, like Gecko) Chrome/58.0.3029.83 Safari/537.36</th>\n",
       "      <td>1</td>\n",
       "      <td>0.000000</td>\n",
       "      <td>0.000000</td>\n",
       "      <td>0.0</td>\n",
       "      <td>8126.000000</td>\n",
       "      <td>0</td>\n",
       "      <td>0.0</td>\n",
       "    </tr>\n",
       "    <tr>\n",
       "      <th>5.216.180.125</th>\n",
       "      <th>Dalvik/2.1.0 (Linux; U; Android 6.0.1; SM-G610F Build/MMB29K)</th>\n",
       "      <td>1</td>\n",
       "      <td>0.000000</td>\n",
       "      <td>0.000000</td>\n",
       "      <td>0.0</td>\n",
       "      <td>3975.000000</td>\n",
       "      <td>0</td>\n",
       "      <td>0.0</td>\n",
       "    </tr>\n",
       "    <tr>\n",
       "      <th>31.14.80.105</th>\n",
       "      <th>Mozilla/5.0 (Linux; Android 4.1.2; GT-I8552) AppleWebKit/537.36 (KHTML, like Gecko) Chrome/71.0.3578.99 Mobile Safari/537.36</th>\n",
       "      <td>1</td>\n",
       "      <td>0.000000</td>\n",
       "      <td>0.000000</td>\n",
       "      <td>0.0</td>\n",
       "      <td>4401.000000</td>\n",
       "      <td>0</td>\n",
       "      <td>0.0</td>\n",
       "    </tr>\n",
       "    <tr>\n",
       "      <th>5.120.61.203</th>\n",
       "      <th>Dalvik/2.1.0 (Linux; U; Android 7.0; SM-C5000 Build/NRD90M)</th>\n",
       "      <td>1</td>\n",
       "      <td>0.000000</td>\n",
       "      <td>0.000000</td>\n",
       "      <td>0.0</td>\n",
       "      <td>3975.000000</td>\n",
       "      <td>0</td>\n",
       "      <td>0.0</td>\n",
       "    </tr>\n",
       "  </tbody>\n",
       "</table>\n",
       "<p>220076 rows × 7 columns</p>\n",
       "</div>"
      ],
      "text/plain": [
       "                                                                  requests_count  \\\n",
       "client        user_agent                                                           \n",
       "66.249.66.194 Mozilla/5.0 (Linux; Android 6.0.1; Nexus 5X Bui...          155139   \n",
       "66.249.66.91  Mozilla/5.0 (Linux; Android 6.0.1; Nexus 5X Bui...           75600   \n",
       "              Googlebot-Image/1.0                                          65272   \n",
       "66.249.66.194 Mozilla/5.0 (compatible; Googlebot/2.1; +http:/...           53339   \n",
       "66.249.66.91  Mozilla/5.0 (compatible; Googlebot/2.1; +http:/...           47535   \n",
       "...                                                                          ...   \n",
       "31.14.159.100 Mozilla/5.0 (Windows NT 6.1; WOW64; rv:50.0) Ge...               1   \n",
       "31.14.159.97  Mozilla/5.0 (Linux; Android 7.0; Lenovo TB-7304...               1   \n",
       "5.216.180.125 Dalvik/2.1.0 (Linux; U; Android 6.0.1; SM-G610F...               1   \n",
       "31.14.80.105  Mozilla/5.0 (Linux; Android 4.1.2; GT-I8552) Ap...               1   \n",
       "5.120.61.203  Dalvik/2.1.0 (Linux; U; Android 7.0; SM-C5000 B...               1   \n",
       "\n",
       "                                                                  STD of endpoint lengths  \\\n",
       "client        user_agent                                                                    \n",
       "66.249.66.194 Mozilla/5.0 (Linux; Android 6.0.1; Nexus 5X Bui...                 0.591591   \n",
       "66.249.66.91  Mozilla/5.0 (Linux; Android 6.0.1; Nexus 5X Bui...                 0.219545   \n",
       "              Googlebot-Image/1.0                                                0.504398   \n",
       "66.249.66.194 Mozilla/5.0 (compatible; Googlebot/2.1; +http:/...                 0.814394   \n",
       "66.249.66.91  Mozilla/5.0 (compatible; Googlebot/2.1; +http:/...                 0.444966   \n",
       "...                                                                                   ...   \n",
       "31.14.159.100 Mozilla/5.0 (Windows NT 6.1; WOW64; rv:50.0) Ge...                 0.000000   \n",
       "31.14.159.97  Mozilla/5.0 (Linux; Android 7.0; Lenovo TB-7304...                 0.000000   \n",
       "5.216.180.125 Dalvik/2.1.0 (Linux; U; Android 6.0.1; SM-G610F...                 0.000000   \n",
       "31.14.80.105  Mozilla/5.0 (Linux; Android 4.1.2; GT-I8552) Ap...                 0.000000   \n",
       "5.120.61.203  Dalvik/2.1.0 (Linux; U; Android 7.0; SM-C5000 B...                 0.000000   \n",
       "\n",
       "                                                                  Percentage of 4xx status codes  \\\n",
       "client        user_agent                                                                           \n",
       "66.249.66.194 Mozilla/5.0 (Linux; Android 6.0.1; Nexus 5X Bui...                        0.014748   \n",
       "66.249.66.91  Mozilla/5.0 (Linux; Android 6.0.1; Nexus 5X Bui...                        0.000159   \n",
       "              Googlebot-Image/1.0                                                       0.000000   \n",
       "66.249.66.194 Mozilla/5.0 (compatible; Googlebot/2.1; +http:/...                        0.079435   \n",
       "66.249.66.91  Mozilla/5.0 (compatible; Googlebot/2.1; +http:/...                        0.000968   \n",
       "...                                                                                          ...   \n",
       "31.14.159.100 Mozilla/5.0 (Windows NT 6.1; WOW64; rv:50.0) Ge...                        0.000000   \n",
       "31.14.159.97  Mozilla/5.0 (Linux; Android 7.0; Lenovo TB-7304...                        0.000000   \n",
       "5.216.180.125 Dalvik/2.1.0 (Linux; U; Android 6.0.1; SM-G610F...                        0.000000   \n",
       "31.14.80.105  Mozilla/5.0 (Linux; Android 4.1.2; GT-I8552) Ap...                        0.000000   \n",
       "5.120.61.203  Dalvik/2.1.0 (Linux; U; Android 7.0; SM-C5000 B...                        0.000000   \n",
       "\n",
       "                                                                  Percentage of HTTP HEAD requests  \\\n",
       "client        user_agent                                                                             \n",
       "66.249.66.194 Mozilla/5.0 (Linux; Android 6.0.1; Nexus 5X Bui...                               0.0   \n",
       "66.249.66.91  Mozilla/5.0 (Linux; Android 6.0.1; Nexus 5X Bui...                               0.0   \n",
       "              Googlebot-Image/1.0                                                              0.0   \n",
       "66.249.66.194 Mozilla/5.0 (compatible; Googlebot/2.1; +http:/...                               0.0   \n",
       "66.249.66.91  Mozilla/5.0 (compatible; Googlebot/2.1; +http:/...                               0.0   \n",
       "...                                                                                            ...   \n",
       "31.14.159.100 Mozilla/5.0 (Windows NT 6.1; WOW64; rv:50.0) Ge...                               0.0   \n",
       "31.14.159.97  Mozilla/5.0 (Linux; Android 7.0; Lenovo TB-7304...                               0.0   \n",
       "5.216.180.125 Dalvik/2.1.0 (Linux; U; Android 6.0.1; SM-G610F...                               0.0   \n",
       "31.14.80.105  Mozilla/5.0 (Linux; Android 4.1.2; GT-I8552) Ap...                               0.0   \n",
       "5.120.61.203  Dalvik/2.1.0 (Linux; U; Android 7.0; SM-C5000 B...                               0.0   \n",
       "\n",
       "                                                                  Average of the size column  \\\n",
       "client        user_agent                                                                       \n",
       "66.249.66.194 Mozilla/5.0 (Linux; Android 6.0.1; Nexus 5X Bui...                19955.741973   \n",
       "66.249.66.91  Mozilla/5.0 (Linux; Android 6.0.1; Nexus 5X Bui...                 2498.271190   \n",
       "              Googlebot-Image/1.0                                                3392.344865   \n",
       "66.249.66.194 Mozilla/5.0 (compatible; Googlebot/2.1; +http:/...                24904.015055   \n",
       "66.249.66.91  Mozilla/5.0 (compatible; Googlebot/2.1; +http:/...                39104.241885   \n",
       "...                                                                                      ...   \n",
       "31.14.159.100 Mozilla/5.0 (Windows NT 6.1; WOW64; rv:50.0) Ge...                 5773.000000   \n",
       "31.14.159.97  Mozilla/5.0 (Linux; Android 7.0; Lenovo TB-7304...                 8126.000000   \n",
       "5.216.180.125 Dalvik/2.1.0 (Linux; U; Android 6.0.1; SM-G610F...                 3975.000000   \n",
       "31.14.80.105  Mozilla/5.0 (Linux; Android 4.1.2; GT-I8552) Ap...                 4401.000000   \n",
       "5.120.61.203  Dalvik/2.1.0 (Linux; U; Android 7.0; SM-C5000 B...                 3975.000000   \n",
       "\n",
       "                                                                  Robots.txt requests  \\\n",
       "client        user_agent                                                                \n",
       "66.249.66.194 Mozilla/5.0 (Linux; Android 6.0.1; Nexus 5X Bui...                    0   \n",
       "66.249.66.91  Mozilla/5.0 (Linux; Android 6.0.1; Nexus 5X Bui...                    0   \n",
       "              Googlebot-Image/1.0                                                   0   \n",
       "66.249.66.194 Mozilla/5.0 (compatible; Googlebot/2.1; +http:/...                    0   \n",
       "66.249.66.91  Mozilla/5.0 (compatible; Googlebot/2.1; +http:/...                    0   \n",
       "...                                                                               ...   \n",
       "31.14.159.100 Mozilla/5.0 (Windows NT 6.1; WOW64; rv:50.0) Ge...                    0   \n",
       "31.14.159.97  Mozilla/5.0 (Linux; Android 7.0; Lenovo TB-7304...                    0   \n",
       "5.216.180.125 Dalvik/2.1.0 (Linux; U; Android 6.0.1; SM-G610F...                    0   \n",
       "31.14.80.105  Mozilla/5.0 (Linux; Android 4.1.2; GT-I8552) Ap...                    0   \n",
       "5.120.61.203  Dalvik/2.1.0 (Linux; U; Android 7.0; SM-C5000 B...                    0   \n",
       "\n",
       "                                                                  Percentage of requests with unassigned referrers  \n",
       "client        user_agent                                                                                            \n",
       "66.249.66.194 Mozilla/5.0 (Linux; Android 6.0.1; Nexus 5X Bui...                                               0.0  \n",
       "66.249.66.91  Mozilla/5.0 (Linux; Android 6.0.1; Nexus 5X Bui...                                               0.0  \n",
       "              Googlebot-Image/1.0                                                                              0.0  \n",
       "66.249.66.194 Mozilla/5.0 (compatible; Googlebot/2.1; +http:/...                                               0.0  \n",
       "66.249.66.91  Mozilla/5.0 (compatible; Googlebot/2.1; +http:/...                                               0.0  \n",
       "...                                                                                                            ...  \n",
       "31.14.159.100 Mozilla/5.0 (Windows NT 6.1; WOW64; rv:50.0) Ge...                                               0.0  \n",
       "31.14.159.97  Mozilla/5.0 (Linux; Android 7.0; Lenovo TB-7304...                                               0.0  \n",
       "5.216.180.125 Dalvik/2.1.0 (Linux; U; Android 6.0.1; SM-G610F...                                               0.0  \n",
       "31.14.80.105  Mozilla/5.0 (Linux; Android 4.1.2; GT-I8552) Ap...                                               0.0  \n",
       "5.120.61.203  Dalvik/2.1.0 (Linux; U; Android 7.0; SM-C5000 B...                                               0.0  \n",
       "\n",
       "[220076 rows x 7 columns]"
      ]
     },
     "execution_count": 2,
     "metadata": {},
     "output_type": "execute_result"
    }
   ],
   "source": [
    "# change the data type of the client, user_agent, referer columns.\n",
    "# It may take 1-2 minutes to execute.\n",
    "\n",
    "def create_session_df(logs_df):\n",
    "    # TODO: Implement this function that takes a pd.DataFrame\n",
    "    # and return the session DataFrame\n",
    "    \n",
    "    session_df = pd.DataFrame()\n",
    "    \n",
    "    ############# Your code here ############\n",
    "    session_df = pd.DataFrame(logs_df.groupby(['client', 'user_agent'] , observed = True).size(), columns=['requests_count'])\n",
    "    #########################################\n",
    "    \n",
    "    return session_df.sort_values('requests_count', ascending=False)\n",
    "\n",
    "def generate_features(session_df, logs_df):\n",
    "    # TODO: Implement this function that takes two pd.DataFrame\n",
    "    # and return the session DataFrame with 6 features\n",
    "    session_df = create_session_df(logs_df)\n",
    "    x = logs_df[{'client' , 'request' , 'user_agent'}]\n",
    "    x['request'] = x['request'].transform(lambda x:len(x.split('/')))\n",
    "    x = x.groupby(['client', 'user_agent'] , observed = True).std().fillna(0)\n",
    "    session_df['STD of endpoint lengths'] = x\n",
    "    x = logs_df[{'client' , 'status' , 'user_agent'}]\n",
    "    x['status'] = x['status'].transform(lambda x:x // 100 == 4)\n",
    "    x = x.groupby(['client', 'user_agent'] , observed = True).mean()\n",
    "    session_df['Percentage of 4xx status codes'] = x\n",
    "    x = logs_df[{'client' , 'method' , 'user_agent'}]\n",
    "    x['method'] = x['method'].transform(lambda x:x=='HEAD')\n",
    "    x = x.groupby(['client', 'user_agent'] , observed = True).mean()\n",
    "    session_df['Percentage of HTTP HEAD requests'] = x\n",
    "    x = logs_df[{'client' , 'size' , 'user_agent'}]\n",
    "    x = x.groupby(['client', 'user_agent'] , observed = True).mean()\n",
    "    session_df['Average of the size column'] = x\n",
    "    x = logs_df[{'client' , 'request' , 'user_agent'}]\n",
    "    x['request'] = x['request'].transform(lambda x:x.str.contains('Robots.txt'))\n",
    "    x = x.groupby(['client', 'user_agent'] , observed = True).sum()\n",
    "    session_df['Robots.txt requests'] = x\n",
    "    x = logs_df[{'client' , 'referer' , 'user_agent'}]\n",
    "    x['referer'] = x['referer'].transform(lambda x:len(x)==0 or pd.isna(x))\n",
    "    x = x.groupby(['client', 'user_agent'] , observed = True).mean()\n",
    "    session_df['Percentage of requests with unassigned referrers'] = x\n",
    "   \n",
    "    ############# Your code here ############\n",
    "\n",
    "    #########################################\n",
    "    \n",
    "    return session_df\n",
    "session_df = pd.DataFrame()\n",
    "session_df = generate_features(session_df, logs_df)\n",
    "#assert session_df.shape == (128537, 8)\n",
    "session_df"
   ]
  },
  {
   "cell_type": "markdown",
   "id": "nasty-broad",
   "metadata": {
    "id": "nasty-broad"
   },
   "source": [
    "Sort the final session DataFrame in both ascending/descending based on each column. What can you imply from the results? Examine the top/least sessions' requests and its user agent, Can we conclude that are suspicious enough as crawlers? \n",
    "\n",
    "**Help**: After sorting the DataFrame, check out the user agents of the sessions, they may include *bot* in them. Also you can observe the requests which suspicious have sent within its session. Check the time stamps of the requests? Have been the requests sent immediately after one each?\n",
    "\n",
    "**Important Note**: To answer this question, you don't have to show all your DataFrames and results after sorting them here. Just play around the session DataFrame you have created and write your implications from what you see.\n",
    "\n",
    "But before analyzing your results, run the cell below to drop all the session with less than 10 requests."
   ]
  },
  {
   "cell_type": "code",
   "execution_count": 3,
   "id": "sound-rating",
   "metadata": {
    "id": "sound-rating"
   },
   "outputs": [
    {
     "data": {
      "text/html": [
       "<div>\n",
       "<style scoped>\n",
       "    .dataframe tbody tr th:only-of-type {\n",
       "        vertical-align: middle;\n",
       "    }\n",
       "\n",
       "    .dataframe tbody tr th {\n",
       "        vertical-align: top;\n",
       "    }\n",
       "\n",
       "    .dataframe thead th {\n",
       "        text-align: right;\n",
       "    }\n",
       "</style>\n",
       "<table border=\"1\" class=\"dataframe\">\n",
       "  <thead>\n",
       "    <tr style=\"text-align: right;\">\n",
       "      <th></th>\n",
       "      <th></th>\n",
       "      <th>requests_count</th>\n",
       "      <th>STD of endpoint lengths</th>\n",
       "      <th>Percentage of 4xx status codes</th>\n",
       "      <th>Percentage of HTTP HEAD requests</th>\n",
       "      <th>Average of the size column</th>\n",
       "      <th>Robots.txt requests</th>\n",
       "      <th>Percentage of requests with unassigned referrers</th>\n",
       "    </tr>\n",
       "    <tr>\n",
       "      <th>client</th>\n",
       "      <th>user_agent</th>\n",
       "      <th></th>\n",
       "      <th></th>\n",
       "      <th></th>\n",
       "      <th></th>\n",
       "      <th></th>\n",
       "      <th></th>\n",
       "      <th></th>\n",
       "    </tr>\n",
       "  </thead>\n",
       "  <tbody>\n",
       "    <tr>\n",
       "      <th>66.249.66.194</th>\n",
       "      <th>Mozilla/5.0 (Linux; Android 6.0.1; Nexus 5X Build/MMB29P) AppleWebKit/537.36 (KHTML, like Gecko) Chrome/41.0.2272.96 Mobile Safari/537.36 (compatible; Googlebot/2.1; +http://www.google.com/bot.html)</th>\n",
       "      <td>155139</td>\n",
       "      <td>0.591591</td>\n",
       "      <td>0.014748</td>\n",
       "      <td>0.0</td>\n",
       "      <td>19955.741973</td>\n",
       "      <td>0</td>\n",
       "      <td>0.0</td>\n",
       "    </tr>\n",
       "    <tr>\n",
       "      <th rowspan=\"2\" valign=\"top\">66.249.66.91</th>\n",
       "      <th>Mozilla/5.0 (Linux; Android 6.0.1; Nexus 5X Build/MMB29P) AppleWebKit/537.36 (KHTML, like Gecko) Chrome/41.0.2272.96 Mobile Safari/537.36 (compatible; Googlebot/2.1; +http://www.google.com/bot.html)</th>\n",
       "      <td>75600</td>\n",
       "      <td>0.219545</td>\n",
       "      <td>0.000159</td>\n",
       "      <td>0.0</td>\n",
       "      <td>2498.271190</td>\n",
       "      <td>0</td>\n",
       "      <td>0.0</td>\n",
       "    </tr>\n",
       "    <tr>\n",
       "      <th>Googlebot-Image/1.0</th>\n",
       "      <td>65272</td>\n",
       "      <td>0.504398</td>\n",
       "      <td>0.000000</td>\n",
       "      <td>0.0</td>\n",
       "      <td>3392.344865</td>\n",
       "      <td>0</td>\n",
       "      <td>0.0</td>\n",
       "    </tr>\n",
       "    <tr>\n",
       "      <th>66.249.66.194</th>\n",
       "      <th>Mozilla/5.0 (compatible; Googlebot/2.1; +http://www.google.com/bot.html)</th>\n",
       "      <td>53339</td>\n",
       "      <td>0.814394</td>\n",
       "      <td>0.079435</td>\n",
       "      <td>0.0</td>\n",
       "      <td>24904.015055</td>\n",
       "      <td>0</td>\n",
       "      <td>0.0</td>\n",
       "    </tr>\n",
       "    <tr>\n",
       "      <th>66.249.66.91</th>\n",
       "      <th>Mozilla/5.0 (compatible; Googlebot/2.1; +http://www.google.com/bot.html)</th>\n",
       "      <td>47535</td>\n",
       "      <td>0.444966</td>\n",
       "      <td>0.000968</td>\n",
       "      <td>0.0</td>\n",
       "      <td>39104.241885</td>\n",
       "      <td>0</td>\n",
       "      <td>0.0</td>\n",
       "    </tr>\n",
       "    <tr>\n",
       "      <th>...</th>\n",
       "      <th>...</th>\n",
       "      <td>...</td>\n",
       "      <td>...</td>\n",
       "      <td>...</td>\n",
       "      <td>...</td>\n",
       "      <td>...</td>\n",
       "      <td>...</td>\n",
       "      <td>...</td>\n",
       "    </tr>\n",
       "    <tr>\n",
       "      <th>178.239.154.57</th>\n",
       "      <th>Dalvik/2.1.0 (Linux; U; Android 7.0; SM-N920C Build/NRD90M)</th>\n",
       "      <td>10</td>\n",
       "      <td>0.000000</td>\n",
       "      <td>0.000000</td>\n",
       "      <td>0.0</td>\n",
       "      <td>3880.000000</td>\n",
       "      <td>0</td>\n",
       "      <td>0.0</td>\n",
       "    </tr>\n",
       "    <tr>\n",
       "      <th>192.15.195.192</th>\n",
       "      <th>Mozilla/5.0 (iPhone; CPU iPhone OS 12_1 like Mac OS X) AppleWebKit/605.1.15 (KHTML, like Gecko) CriOS/71.0.3578.89 Mobile/15E148 Safari/605.1</th>\n",
       "      <td>10</td>\n",
       "      <td>0.918937</td>\n",
       "      <td>0.000000</td>\n",
       "      <td>0.0</td>\n",
       "      <td>10228.500000</td>\n",
       "      <td>0</td>\n",
       "      <td>0.0</td>\n",
       "    </tr>\n",
       "    <tr>\n",
       "      <th>37.98.113.28</th>\n",
       "      <th>Mozilla/5.0 (Windows NT 6.1; rv:60.0) Gecko/20100101 Firefox/60.0</th>\n",
       "      <td>10</td>\n",
       "      <td>0.699206</td>\n",
       "      <td>0.000000</td>\n",
       "      <td>0.0</td>\n",
       "      <td>11583.600000</td>\n",
       "      <td>0</td>\n",
       "      <td>0.0</td>\n",
       "    </tr>\n",
       "    <tr>\n",
       "      <th>5.112.251.151</th>\n",
       "      <th>Mozilla/5.0 (Android 7.1.1; Mobile; rv:64.0) Gecko/64.0 Firefox/64.0</th>\n",
       "      <td>10</td>\n",
       "      <td>0.737865</td>\n",
       "      <td>0.000000</td>\n",
       "      <td>0.0</td>\n",
       "      <td>13443.200000</td>\n",
       "      <td>0</td>\n",
       "      <td>0.0</td>\n",
       "    </tr>\n",
       "    <tr>\n",
       "      <th>213.226.68.39</th>\n",
       "      <th>Mozilla/5.0 (iPhone; CPU iPhone OS 11_3_1 like Mac OS X) AppleWebKit/600.1.4 (KHTML, like Gecko) GSA/10.0.63022 Mobile/15E302 Safari/600.1.4</th>\n",
       "      <td>10</td>\n",
       "      <td>0.000000</td>\n",
       "      <td>0.000000</td>\n",
       "      <td>0.0</td>\n",
       "      <td>3467.200000</td>\n",
       "      <td>0</td>\n",
       "      <td>0.0</td>\n",
       "    </tr>\n",
       "  </tbody>\n",
       "</table>\n",
       "<p>95445 rows × 7 columns</p>\n",
       "</div>"
      ],
      "text/plain": [
       "                                                                   requests_count  \\\n",
       "client         user_agent                                                           \n",
       "66.249.66.194  Mozilla/5.0 (Linux; Android 6.0.1; Nexus 5X Bui...          155139   \n",
       "66.249.66.91   Mozilla/5.0 (Linux; Android 6.0.1; Nexus 5X Bui...           75600   \n",
       "               Googlebot-Image/1.0                                          65272   \n",
       "66.249.66.194  Mozilla/5.0 (compatible; Googlebot/2.1; +http:/...           53339   \n",
       "66.249.66.91   Mozilla/5.0 (compatible; Googlebot/2.1; +http:/...           47535   \n",
       "...                                                                           ...   \n",
       "178.239.154.57 Dalvik/2.1.0 (Linux; U; Android 7.0; SM-N920C B...              10   \n",
       "192.15.195.192 Mozilla/5.0 (iPhone; CPU iPhone OS 12_1 like Ma...              10   \n",
       "37.98.113.28   Mozilla/5.0 (Windows NT 6.1; rv:60.0) Gecko/201...              10   \n",
       "5.112.251.151  Mozilla/5.0 (Android 7.1.1; Mobile; rv:64.0) Ge...              10   \n",
       "213.226.68.39  Mozilla/5.0 (iPhone; CPU iPhone OS 11_3_1 like ...              10   \n",
       "\n",
       "                                                                   STD of endpoint lengths  \\\n",
       "client         user_agent                                                                    \n",
       "66.249.66.194  Mozilla/5.0 (Linux; Android 6.0.1; Nexus 5X Bui...                 0.591591   \n",
       "66.249.66.91   Mozilla/5.0 (Linux; Android 6.0.1; Nexus 5X Bui...                 0.219545   \n",
       "               Googlebot-Image/1.0                                                0.504398   \n",
       "66.249.66.194  Mozilla/5.0 (compatible; Googlebot/2.1; +http:/...                 0.814394   \n",
       "66.249.66.91   Mozilla/5.0 (compatible; Googlebot/2.1; +http:/...                 0.444966   \n",
       "...                                                                                    ...   \n",
       "178.239.154.57 Dalvik/2.1.0 (Linux; U; Android 7.0; SM-N920C B...                 0.000000   \n",
       "192.15.195.192 Mozilla/5.0 (iPhone; CPU iPhone OS 12_1 like Ma...                 0.918937   \n",
       "37.98.113.28   Mozilla/5.0 (Windows NT 6.1; rv:60.0) Gecko/201...                 0.699206   \n",
       "5.112.251.151  Mozilla/5.0 (Android 7.1.1; Mobile; rv:64.0) Ge...                 0.737865   \n",
       "213.226.68.39  Mozilla/5.0 (iPhone; CPU iPhone OS 11_3_1 like ...                 0.000000   \n",
       "\n",
       "                                                                   Percentage of 4xx status codes  \\\n",
       "client         user_agent                                                                           \n",
       "66.249.66.194  Mozilla/5.0 (Linux; Android 6.0.1; Nexus 5X Bui...                        0.014748   \n",
       "66.249.66.91   Mozilla/5.0 (Linux; Android 6.0.1; Nexus 5X Bui...                        0.000159   \n",
       "               Googlebot-Image/1.0                                                       0.000000   \n",
       "66.249.66.194  Mozilla/5.0 (compatible; Googlebot/2.1; +http:/...                        0.079435   \n",
       "66.249.66.91   Mozilla/5.0 (compatible; Googlebot/2.1; +http:/...                        0.000968   \n",
       "...                                                                                           ...   \n",
       "178.239.154.57 Dalvik/2.1.0 (Linux; U; Android 7.0; SM-N920C B...                        0.000000   \n",
       "192.15.195.192 Mozilla/5.0 (iPhone; CPU iPhone OS 12_1 like Ma...                        0.000000   \n",
       "37.98.113.28   Mozilla/5.0 (Windows NT 6.1; rv:60.0) Gecko/201...                        0.000000   \n",
       "5.112.251.151  Mozilla/5.0 (Android 7.1.1; Mobile; rv:64.0) Ge...                        0.000000   \n",
       "213.226.68.39  Mozilla/5.0 (iPhone; CPU iPhone OS 11_3_1 like ...                        0.000000   \n",
       "\n",
       "                                                                   Percentage of HTTP HEAD requests  \\\n",
       "client         user_agent                                                                             \n",
       "66.249.66.194  Mozilla/5.0 (Linux; Android 6.0.1; Nexus 5X Bui...                               0.0   \n",
       "66.249.66.91   Mozilla/5.0 (Linux; Android 6.0.1; Nexus 5X Bui...                               0.0   \n",
       "               Googlebot-Image/1.0                                                              0.0   \n",
       "66.249.66.194  Mozilla/5.0 (compatible; Googlebot/2.1; +http:/...                               0.0   \n",
       "66.249.66.91   Mozilla/5.0 (compatible; Googlebot/2.1; +http:/...                               0.0   \n",
       "...                                                                                             ...   \n",
       "178.239.154.57 Dalvik/2.1.0 (Linux; U; Android 7.0; SM-N920C B...                               0.0   \n",
       "192.15.195.192 Mozilla/5.0 (iPhone; CPU iPhone OS 12_1 like Ma...                               0.0   \n",
       "37.98.113.28   Mozilla/5.0 (Windows NT 6.1; rv:60.0) Gecko/201...                               0.0   \n",
       "5.112.251.151  Mozilla/5.0 (Android 7.1.1; Mobile; rv:64.0) Ge...                               0.0   \n",
       "213.226.68.39  Mozilla/5.0 (iPhone; CPU iPhone OS 11_3_1 like ...                               0.0   \n",
       "\n",
       "                                                                   Average of the size column  \\\n",
       "client         user_agent                                                                       \n",
       "66.249.66.194  Mozilla/5.0 (Linux; Android 6.0.1; Nexus 5X Bui...                19955.741973   \n",
       "66.249.66.91   Mozilla/5.0 (Linux; Android 6.0.1; Nexus 5X Bui...                 2498.271190   \n",
       "               Googlebot-Image/1.0                                                3392.344865   \n",
       "66.249.66.194  Mozilla/5.0 (compatible; Googlebot/2.1; +http:/...                24904.015055   \n",
       "66.249.66.91   Mozilla/5.0 (compatible; Googlebot/2.1; +http:/...                39104.241885   \n",
       "...                                                                                       ...   \n",
       "178.239.154.57 Dalvik/2.1.0 (Linux; U; Android 7.0; SM-N920C B...                 3880.000000   \n",
       "192.15.195.192 Mozilla/5.0 (iPhone; CPU iPhone OS 12_1 like Ma...                10228.500000   \n",
       "37.98.113.28   Mozilla/5.0 (Windows NT 6.1; rv:60.0) Gecko/201...                11583.600000   \n",
       "5.112.251.151  Mozilla/5.0 (Android 7.1.1; Mobile; rv:64.0) Ge...                13443.200000   \n",
       "213.226.68.39  Mozilla/5.0 (iPhone; CPU iPhone OS 11_3_1 like ...                 3467.200000   \n",
       "\n",
       "                                                                   Robots.txt requests  \\\n",
       "client         user_agent                                                                \n",
       "66.249.66.194  Mozilla/5.0 (Linux; Android 6.0.1; Nexus 5X Bui...                    0   \n",
       "66.249.66.91   Mozilla/5.0 (Linux; Android 6.0.1; Nexus 5X Bui...                    0   \n",
       "               Googlebot-Image/1.0                                                   0   \n",
       "66.249.66.194  Mozilla/5.0 (compatible; Googlebot/2.1; +http:/...                    0   \n",
       "66.249.66.91   Mozilla/5.0 (compatible; Googlebot/2.1; +http:/...                    0   \n",
       "...                                                                                ...   \n",
       "178.239.154.57 Dalvik/2.1.0 (Linux; U; Android 7.0; SM-N920C B...                    0   \n",
       "192.15.195.192 Mozilla/5.0 (iPhone; CPU iPhone OS 12_1 like Ma...                    0   \n",
       "37.98.113.28   Mozilla/5.0 (Windows NT 6.1; rv:60.0) Gecko/201...                    0   \n",
       "5.112.251.151  Mozilla/5.0 (Android 7.1.1; Mobile; rv:64.0) Ge...                    0   \n",
       "213.226.68.39  Mozilla/5.0 (iPhone; CPU iPhone OS 11_3_1 like ...                    0   \n",
       "\n",
       "                                                                   Percentage of requests with unassigned referrers  \n",
       "client         user_agent                                                                                            \n",
       "66.249.66.194  Mozilla/5.0 (Linux; Android 6.0.1; Nexus 5X Bui...                                               0.0  \n",
       "66.249.66.91   Mozilla/5.0 (Linux; Android 6.0.1; Nexus 5X Bui...                                               0.0  \n",
       "               Googlebot-Image/1.0                                                                              0.0  \n",
       "66.249.66.194  Mozilla/5.0 (compatible; Googlebot/2.1; +http:/...                                               0.0  \n",
       "66.249.66.91   Mozilla/5.0 (compatible; Googlebot/2.1; +http:/...                                               0.0  \n",
       "...                                                                                                             ...  \n",
       "178.239.154.57 Dalvik/2.1.0 (Linux; U; Android 7.0; SM-N920C B...                                               0.0  \n",
       "192.15.195.192 Mozilla/5.0 (iPhone; CPU iPhone OS 12_1 like Ma...                                               0.0  \n",
       "37.98.113.28   Mozilla/5.0 (Windows NT 6.1; rv:60.0) Gecko/201...                                               0.0  \n",
       "5.112.251.151  Mozilla/5.0 (Android 7.1.1; Mobile; rv:64.0) Ge...                                               0.0  \n",
       "213.226.68.39  Mozilla/5.0 (iPhone; CPU iPhone OS 11_3_1 like ...                                               0.0  \n",
       "\n",
       "[95445 rows x 7 columns]"
      ]
     },
     "execution_count": 3,
     "metadata": {},
     "output_type": "execute_result"
    }
   ],
   "source": [
    "# We drop all the session with less than 10 requests.\n",
    "session_df.drop(session_df[session_df[\"requests_count\"] < 10].index, inplace=True)\n",
    "session_df"
   ]
  },
  {
   "cell_type": "markdown",
   "id": "spanish-truck",
   "metadata": {
    "id": "spanish-truck"
   },
   "source": [
    "## Q10. (Optional) The last but not the least! (+5 points)\n",
    "\n",
    "There is another novel feature which you must implement it in this section. Read about it below:\n",
    "\n",
    "\n",
    "**Percentage of consecutive repeated HTTP requests** – a numerical attribute calculated as **the number of repeated requests sent in sequence belonging to the same web directory sent by a user during a session**. For instance, a series of requests for web pages matching pattern ‘/cshome/course/\\*.\\* will be marked as consecutive repeated HTTP requests. However, a request to web page ‘/cshome/index.html’ followed by a request to a web page ‘cshome/courses/index.html’ will **not** be marked as consecutive repeated requests.\n",
    "\n",
    "\n",
    "Fill the function below to add this column to the existing  session DataFrame."
   ]
  },
  {
   "cell_type": "code",
   "execution_count": null,
   "id": "b1e78942",
   "metadata": {},
   "outputs": [],
   "source": []
  },
  {
   "cell_type": "code",
   "execution_count": null,
   "id": "remarkable-classification",
   "metadata": {
    "id": "remarkable-classification"
   },
   "outputs": [],
   "source": [
    "def generate_features(session_df, logs_df):\n",
    "    # TODO: Implement this function that takes two pd.DataFrame\n",
    "    # and return the session DataFrame with 7 features\n",
    "\n",
    "    \n",
    "    ############# Your code here ############\n",
    "\n",
    "    #########################################\n",
    "    \n",
    "    return session_df\n",
    "\n",
    "session_df = generate_features(session_df, logs_df)\n",
    "assert session_df.shape == (128537, 9)"
   ]
  },
  {
   "cell_type": "markdown",
   "id": "brutal-treatment",
   "metadata": {
    "id": "brutal-treatment"
   },
   "source": [
    "# 4. Submission\n",
    "\n",
    "Please read the notes here carefully:\n",
    "\n",
    "1. Your codes **must not** include any loops. You just have to use Pandas functionality to answer the questions. Answers which have loops will lose points.\n",
    "\n",
    "2. The more beautiful and insightfull your plots and diagrams are, the more points you get. So please take your time and concentration to prepare a good report with nice diagrams. The main goal of this assignment is to challenge your abilities in python packages not in theories.\n",
    "\n",
    "3. Copy and paste all the functions you have implemented in a `Utils.py` file. Note that you won't need to add any other functions and you just have to copy and paste the functions which have ***\\\"Your code here\\\"*** comments in its body.\n",
    "\n",
    "4. The file you upload must be named as `[Student ID]-[Your name].zip` and it must contain **only 3 files**:\n",
    "\n",
    "  - `LogServerAnalysis.ipynb`\n",
    "  - `Utils.py`\n",
    "  - `Report.pdf`\n",
    "  \n",
    "In case you have any questions, contact **mohammad99hashemi@gmail.com**"
   ]
  }
 ],
 "metadata": {
  "colab": {
   "collapsed_sections": [
    "devoted-diabetes",
    "concerned-compound",
    "collectible-makeup",
    "educational-accuracy",
    "coastal-virginia",
    "cooperative-matrix",
    "worldwide-removal",
    "faced-willow",
    "satellite-murder"
   ],
   "name": "ML1-LogServerAnalysis.ipynb",
   "provenance": [],
   "toc_visible": true
  },
  "kernelspec": {
   "display_name": "Python 3 (ipykernel)",
   "language": "python",
   "name": "python3"
  },
  "language_info": {
   "codemirror_mode": {
    "name": "ipython",
    "version": 3
   },
   "file_extension": ".py",
   "mimetype": "text/x-python",
   "name": "python",
   "nbconvert_exporter": "python",
   "pygments_lexer": "ipython3",
   "version": "3.9.7"
  }
 },
 "nbformat": 4,
 "nbformat_minor": 5
}
